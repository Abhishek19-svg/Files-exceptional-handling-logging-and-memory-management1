{
  "nbformat": 4,
  "nbformat_minor": 0,
  "metadata": {
    "colab": {
      "provenance": []
    },
    "kernelspec": {
      "name": "python3",
      "display_name": "Python 3"
    },
    "language_info": {
      "name": "python"
    }
  },
  "cells": [
    {
      "cell_type": "markdown",
      "source": [
        "# **1) What is the difference between interpreted and compiled languages?**\n",
        "\n",
        "ans- **Compiled Languages**\n",
        "\n",
        "* How it works: The source code is translated into machine code before the program runs, using a compiler.\n",
        "\n",
        "* Execution: The compiled machine code is then executed directly by the computer's CPU.\n",
        "\n",
        "* Examples: C, C++, Rust, Go\n",
        "\n",
        "✅ Advantages:\n",
        "\n",
        "* Faster execution (since it's pre-translated).\n",
        "\n",
        "* Code optimization is possible during compilation.\n",
        "\n",
        "* No need for source code at runtime.\n",
        "\n",
        "❌ Disadvantages:\n",
        "\n",
        "* Compilation takes time.\n",
        "\n",
        "* Less flexible (harder to debug or modify on the fly).\n",
        "\n",
        " Interpreted Languages:\n",
        "\n",
        "How it works: The source code is read and executed line by line by an interpreter at runtime.\n",
        "\n",
        "Execution: No machine code is created ahead of time; everything happens during execution.\n",
        "\n",
        "Examples: Python, JavaScript, Ruby, PHP\n",
        "\n",
        "✅ Advantages:\n",
        "\n",
        "* Easier to debug and test.\n",
        "\n",
        "* More flexibility (can modify code and run it immediately).\n",
        "\n",
        "Platform-independent (as long as an interpreter is available).\n",
        "\n",
        "❌ Disadvantages:\n",
        "\n",
        "* Slower execution (code is interpreted on the fly).\n",
        "\n",
        "* Typically less optimized than compiled code.\n",
        "\n",
        "| Feature          | Compiled Language | Interpreted Language     |\n",
        "| ---------------- | ----------------- | ------------------------ |\n",
        "| Translation Time | Before execution  | During execution         |\n",
        "| Speed            | Faster            | Slower                   |\n",
        "| Portability      | Less portable     | More portable            |\n",
        "| Error Detection  | At compile time   | At runtime               |\n",
        "| Examples         | C, C++, Rust      | Python, JavaScript, Ruby |\n"
      ],
      "metadata": {
        "id": "DVjl4SvwY-8m"
      }
    },
    {
      "cell_type": "markdown",
      "source": [
        "# **2) What is exception handling in Python?**\n",
        "\n",
        "ans - Exception handling in Python is a mechanism that lets you gracefully manage errors that occur during program execution, without crashing your program.\n",
        "\n",
        "**What is an Exception?**\n",
        "An exception is an error that happens at runtime. For example:\n",
        "\n"
      ],
      "metadata": {
        "id": "-J-kxN9MbHIT"
      }
    },
    {
      "cell_type": "code",
      "source": [
        "print(10 / 0)  # Raises a ZeroDivisionError\n"
      ],
      "metadata": {
        "collapsed": true,
        "id": "4P_bdPUHbo4i"
      },
      "execution_count": null,
      "outputs": []
    },
    {
      "cell_type": "markdown",
      "source": [
        "This will crash the program unless you handle it properly.\n",
        "\n",
        "Why Use Exception Handling?\n",
        "\n",
        "* To prevent crashes\n",
        "\n",
        "* To provide user-friendly error messages\n",
        "\n",
        "* To allow the program to continue running or take alternative action\n",
        "\n",
        "**Syntax of Exception Handling in Python**"
      ],
      "metadata": {
        "id": "9M5q8b5_bxUz"
      }
    },
    {
      "cell_type": "code",
      "source": [
        "try:\n",
        "    # Code that might raise an exception\n",
        "except SomeException:\n",
        "    # Code to handle the exception\n",
        "else:\n",
        "    # (Optional) Code to run if no exception occurs\n",
        "finally:\n",
        "    # (Optional) Code that runs no matter what (cleanup)\n"
      ],
      "metadata": {
        "id": "zzzGBhXDcCNj"
      },
      "execution_count": null,
      "outputs": []
    },
    {
      "cell_type": "markdown",
      "source": [
        " Example:"
      ],
      "metadata": {
        "id": "3y73Gy0DcKvq"
      }
    },
    {
      "cell_type": "code",
      "source": [
        "try:\n",
        "    number = int(input(\"Enter a number: \"))\n",
        "    result = 10 / number\n",
        "    print(\"Result is\", result)\n",
        "except ZeroDivisionError:\n",
        "    print(\"You can't divide by zero!\")\n",
        "except ValueError:\n",
        "    print(\"Invalid input. Please enter a number.\")\n",
        "else:\n",
        "    print(\"Operation was successful.\")\n",
        "finally:\n",
        "    print(\"This always runs.\")\n"
      ],
      "metadata": {
        "id": "b0-OMTmecMvK"
      },
      "execution_count": null,
      "outputs": []
    },
    {
      "cell_type": "markdown",
      "source": [
        "Common Exceptions:\n",
        "\n",
        "| Exception Name      | Description                                  |\n",
        "| ------------------- | -------------------------------------------- |\n",
        "| `ZeroDivisionError` | Division by zero                             |\n",
        "| `ValueError`        | Invalid value (e.g., converting text to int) |\n",
        "| `TypeError`         | Wrong type used in operation                 |\n",
        "| `IndexError`        | List index out of range                      |\n",
        "| `KeyError`          | Dictionary key not found                     |\n",
        "| `FileNotFoundError` | File operation fails                         |\n",
        "\n",
        "\n",
        "Summary:\n",
        "\n",
        "Exception handling in Python lets you catch and manage errors using try, except, else, and finally blocks. It's essential for writing robust, fault-tolerant code."
      ],
      "metadata": {
        "id": "WswXUUTzcH3j"
      }
    },
    {
      "cell_type": "markdown",
      "source": [
        "# **3) What is the purpose of the finally block in exception handling?**\n",
        "\n",
        "ans - The finally block in exception handling is used to define a section of code that will always execute, regardless of whether an exception was raised or not. Its primary purpose is to ensure that cleanup operations (like closing files, releasing resources, or terminating connections) are performed, no matter what happens in the try or except blocks.\n",
        "\n",
        "**Syntax Example** :"
      ],
      "metadata": {
        "id": "B31KJ6CScYOy"
      }
    },
    {
      "cell_type": "code",
      "source": [
        "try:\n",
        "    # Code that may raise an exception\n",
        "    f = open(\"example.txt\", \"r\")\n",
        "    data = f.read()\n",
        "except FileNotFoundError:\n",
        "    print(\"File not found!\")\n",
        "finally:\n",
        "    # This block always runs\n",
        "    f.close()\n",
        "    print(\"File closed.\")\n"
      ],
      "metadata": {
        "id": "xaWM4MxzgtEo"
      },
      "execution_count": null,
      "outputs": []
    },
    {
      "cell_type": "markdown",
      "source": [
        "Key Points:\n",
        "\n",
        "* The finally block always executes after the try block and any except blocks.\n",
        "\n",
        "* It runs whether an exception was raised or not.\n",
        "\n",
        "* It runs even if there's a return, break, or continue in the try or except blocks.\n",
        "\n",
        "* If the program exits using os._exit() or crashes (e.g., due to a power failure), the finally block might not execute.\n",
        "\n",
        "\n",
        "Common Use Cases:\n",
        "\n",
        "* Closing files or database connections\n",
        "\n",
        "* Releasing locks\n",
        "\n",
        "* Cleaning up temporary resources\n",
        "\n",
        "* Logging termination steps\n",
        "\n",
        "In short, finally ensures that important finalization code runs, helping prevent resource leaks and other unintended side effects."
      ],
      "metadata": {
        "id": "vBE13AC3g61Y"
      }
    },
    {
      "cell_type": "markdown",
      "source": [
        "# **4) What is logging in Python?**\n",
        "\n",
        "ans- Logging in Python is the process of recording events that happen when some software runs. It helps developers track the flow of execution and catch issues by writing messages to various outputs like the console, log files, or external systems.\n",
        "\n",
        "Python provides a built-in logging module for flexible and configurable logging.\n",
        "\n",
        "✅ Why use logging instead of print?\n",
        "\n",
        "* More control: You can set different levels of importance (e.g., debug, info, warning, error, critical).\n",
        "\n",
        "* Easier to disable or redirect: You can send logs to files, emails, or external systems.\n",
        "\n",
        "* Structured: It can include timestamps, filenames, line numbers, etc.\n",
        "\n",
        "* Production-ready: Unlike print(), logging is suitable for both development and production environments."
      ],
      "metadata": {
        "id": "Wun67RDIhXEB"
      }
    },
    {
      "cell_type": "code",
      "source": [
        "import logging\n",
        "\n",
        "logging.basicConfig(level=logging.INFO)\n",
        "logging.info(\"This is an info message.\")\n"
      ],
      "metadata": {
        "id": "38XulIo4ZVlp"
      },
      "execution_count": null,
      "outputs": []
    },
    {
      "cell_type": "markdown",
      "source": [
        "**Logging Levels**"
      ],
      "metadata": {
        "id": "A6DrJIBkZZNx"
      }
    },
    {
      "cell_type": "code",
      "source": [
        "logging.debug(\"Detailed info, useful for debugging.\")\n",
        "logging.info(\"General info about program execution.\")\n",
        "logging.warning(\"An indication something unexpected happened.\")\n",
        "logging.error(\"An error occurred that didn’t stop the program.\")\n",
        "logging.critical(\"A serious error that might crash the program.\")\n"
      ],
      "metadata": {
        "id": "8VBV_LnRZakR"
      },
      "execution_count": null,
      "outputs": []
    },
    {
      "cell_type": "markdown",
      "source": [
        "**Logging to a File:**"
      ],
      "metadata": {
        "id": "xhGxxM6_ZeHo"
      }
    },
    {
      "cell_type": "code",
      "source": [
        "logging.basicConfig(filename='app.log', level=logging.DEBUG)\n",
        "logging.debug(\"This will be written to app.log\")\n"
      ],
      "metadata": {
        "id": "YJtF2fycZgVw"
      },
      "execution_count": null,
      "outputs": []
    },
    {
      "cell_type": "markdown",
      "source": [
        "**Summary:**\n",
        "\n",
        "Logging in Python is a powerful way to monitor, debug, and maintain applications. It provides more structure and flexibility than simple print statements, especially in larger or long-running systems."
      ],
      "metadata": {
        "id": "-9z355eYZojg"
      }
    },
    {
      "cell_type": "markdown",
      "source": [
        "# **5) What is the significance of the __del__ method in Python?**\n",
        "\n",
        "ans- he __del__ method in Python is a destructor — it's called automatically when an object is about to be destroyed (i.e., when it is garbage collected).\n",
        "\n",
        "✅ Purpose of __del__:\n",
        "\n",
        "* It allows you to clean up resources (like closing files, releasing network connections, or freeing memory) when an object is no longer needed.\n",
        "\n",
        "* Acts like a finalizer in other languages (e.g., a destructor in C++).\n",
        "\n",
        " **Example:**\n",
        "\n"
      ],
      "metadata": {
        "id": "nDBzFLhTZrN5"
      }
    },
    {
      "cell_type": "code",
      "source": [
        "class MyClass:\n",
        "    def __del__(self):\n",
        "        print(\"Object is being destroyed\")\n",
        "\n",
        "obj = MyClass()\n",
        "del obj  # Triggers __del__()\n"
      ],
      "metadata": {
        "colab": {
          "base_uri": "https://localhost:8080/"
        },
        "id": "-c6JnU3spw92",
        "outputId": "7c0d8816-400b-449c-f68b-42d7201a03b0"
      },
      "execution_count": null,
      "outputs": [
        {
          "output_type": "stream",
          "name": "stdout",
          "text": [
            "Object is being destroyed\n"
          ]
        }
      ]
    },
    {
      "cell_type": "markdown",
      "source": [
        "**Important Notes:**\n",
        "\n",
        "* Not guaranteed to be called immediately — Python uses garbage collection, so __del__ may not run exactly when you delete the object (especially in reference cycles).\n",
        "\n",
        "* Avoid complex logic inside __del__ — if exceptions occur inside it, they are ignored and not reported.\n",
        "\n",
        "* If your program ends, Python may not call __del__ for all objects (especially if they are part of circular references or if the interpreter is shutting down).\n",
        "\n",
        "✅ Best Practice:\n",
        "\n",
        "Prefer using context managers (with statements) for resource management (like files, sockets).\n",
        "\n",
        "Use __del__ only when necessary and with caution.\n",
        "\n",
        "Summary:\n",
        "\n",
        "The __del__ method is useful for cleanup but is not a reliable or recommended way to manage resources in most cases. Python’s context managers and the with statement are a safer and more predictable alternative."
      ],
      "metadata": {
        "id": "SYZZR0Tpp2nV"
      }
    },
    {
      "cell_type": "markdown",
      "source": [
        "# **6) What is the difference between import and from ... import in Python?**\n",
        "\n",
        "ans- ✅ 1. import Statement\n",
        "\n",
        "Syntax:"
      ],
      "metadata": {
        "id": "4fRFbo9GqPYu"
      }
    },
    {
      "cell_type": "code",
      "source": [
        "import module_name\n"
      ],
      "metadata": {
        "id": "MRvnhcVxqeMU"
      },
      "execution_count": null,
      "outputs": []
    },
    {
      "cell_type": "markdown",
      "source": [
        "What it does:\n",
        "\n",
        "* Imports the entire module.\n",
        "\n",
        "* You access functions/classes using the module name as a prefix.\n",
        "\n",
        "Example:"
      ],
      "metadata": {
        "id": "5CbgkRHyqhd-"
      }
    },
    {
      "cell_type": "code",
      "source": [
        "import math\n",
        "print(math.sqrt(16))  # Output: 4.0\n"
      ],
      "metadata": {
        "colab": {
          "base_uri": "https://localhost:8080/"
        },
        "id": "OZCBLskyqp-s",
        "outputId": "21557094-0e58-402e-dcad-0372e17c2313"
      },
      "execution_count": null,
      "outputs": [
        {
          "output_type": "stream",
          "name": "stdout",
          "text": [
            "4.0\n"
          ]
        }
      ]
    },
    {
      "cell_type": "markdown",
      "source": [
        "✅ 2. from ... import Statement\n",
        "\n",
        "Syntax:"
      ],
      "metadata": {
        "id": "ouMK_xzSq0fG"
      }
    },
    {
      "cell_type": "code",
      "source": [
        "from module_name import specific_function_or_class\n"
      ],
      "metadata": {
        "id": "TitbRECLq1w1"
      },
      "execution_count": null,
      "outputs": []
    },
    {
      "cell_type": "markdown",
      "source": [
        "**What it does:**\n",
        "\n",
        "* Imports only specific parts of a module (e.g., a function, class, or variable).\n",
        "\n",
        "* You can use them directly without prefixing the module name.\n",
        "\n",
        "Example:\n"
      ],
      "metadata": {
        "id": "JmPZTT2Sq5sa"
      }
    },
    {
      "cell_type": "code",
      "source": [
        "from math import sqrt\n",
        "print(sqrt(16))  # Output: 4.0\n"
      ],
      "metadata": {
        "id": "GTPJC8sxq_U-"
      },
      "execution_count": null,
      "outputs": []
    },
    {
      "cell_type": "markdown",
      "source": [
        "Comparison Table:\n",
        "\n",
        "| Feature             | `import`                        | `from ... import`                   |\n",
        "| ------------------- | ------------------------------- | ----------------------------------- |\n",
        "| Scope               | Imports the **whole module**    | Imports **specific items**          |\n",
        "| Access syntax       | `module_name.function()`        | Just `function()`                   |\n",
        "| Namespace pollution | Low (all under module name)     | Higher (more names in global scope) |\n",
        "| Readability         | Clear where function comes from | Less obvious in large codebases     |\n"
      ],
      "metadata": {
        "id": "NuhmTts3rDVF"
      }
    },
    {
      "cell_type": "code",
      "source": [
        "from math import sqrt, pi\n"
      ],
      "metadata": {
        "id": "kiBrOMSdrNB1"
      },
      "execution_count": null,
      "outputs": []
    },
    {
      "cell_type": "markdown",
      "source": [
        "Or use aliasing:"
      ],
      "metadata": {
        "id": "RAEcmIsCrQd1"
      }
    },
    {
      "cell_type": "code",
      "source": [
        "import numpy as np\n",
        "from math import sqrt as square_root\n"
      ],
      "metadata": {
        "id": "uU2W4ANcrN7l"
      },
      "execution_count": null,
      "outputs": []
    },
    {
      "cell_type": "markdown",
      "source": [
        "📌 Summary:\n",
        "\n",
        "Use import when you want to keep namespace clear and avoid conflicts.\n",
        "\n",
        "Use from ... import when you need just a few items and want cleaner syntax."
      ],
      "metadata": {
        "id": "FefrnGusrSZN"
      }
    },
    {
      "cell_type": "markdown",
      "source": [
        "# **7) How can you handle multiple exceptions in Python?**\n",
        "\n",
        "ans- In Python, you can handle multiple exceptions using a few different techniques, depending on what you want to do. Here’s how:\n",
        "\n",
        "✅ 1. Handle multiple exceptions in a single except block\n",
        "If you want to handle several types of exceptions the same way, you can group them in a tuple:\n"
      ],
      "metadata": {
        "id": "Ul9zcp27rVR1"
      }
    },
    {
      "cell_type": "code",
      "source": [
        "try:\n",
        "    # Some code that may raise different exceptions\n",
        "    value = int(\"abc\")  # This will raise a ValueError\n",
        "except (ValueError, TypeError) as e:\n",
        "    print(f\"Handled exception: {e}\")\n"
      ],
      "metadata": {
        "colab": {
          "base_uri": "https://localhost:8080/"
        },
        "id": "8BKIsQVsrrKd",
        "outputId": "846258bd-5be6-44f2-8980-1b2a8d220a8b"
      },
      "execution_count": null,
      "outputs": [
        {
          "output_type": "stream",
          "name": "stdout",
          "text": [
            "Handled exception: invalid literal for int() with base 10: 'abc'\n"
          ]
        }
      ]
    },
    {
      "cell_type": "markdown",
      "source": [
        "✅ 2. Handle each exception type separately\n",
        "\n",
        "If you want to handle different exceptions differently, use multiple except blocks:"
      ],
      "metadata": {
        "id": "tS0X3vVKrvoN"
      }
    },
    {
      "cell_type": "code",
      "source": [
        "try:\n",
        "    # Some code that may raise exceptions\n",
        "    x = 10 / 0\n",
        "except ZeroDivisionError:\n",
        "    print(\"Cannot divide by zero.\")\n",
        "except ValueError:\n",
        "    print(\"Invalid value.\")\n"
      ],
      "metadata": {
        "colab": {
          "base_uri": "https://localhost:8080/"
        },
        "id": "Tg3XZuLerxMe",
        "outputId": "1eedc2bf-719d-46d6-888d-d655dbd5969c"
      },
      "execution_count": null,
      "outputs": [
        {
          "output_type": "stream",
          "name": "stdout",
          "text": [
            "Cannot divide by zero.\n"
          ]
        }
      ]
    },
    {
      "cell_type": "markdown",
      "source": [
        "✅ 3. Catch all exceptions (not recommended unless necessary)\n",
        "\n",
        "If you’re not sure what might go wrong, you can catch any exception — but use this with caution, as it may hide bugs:"
      ],
      "metadata": {
        "id": "Yj42Phpmr5C9"
      }
    },
    {
      "cell_type": "code",
      "source": [
        "try:\n",
        "    # Risky code\n",
        "    risky_function()\n",
        "except Exception as e:\n",
        "    print(f\"An error occurred: {e}\")\n"
      ],
      "metadata": {
        "colab": {
          "base_uri": "https://localhost:8080/"
        },
        "id": "_hDCyEWtr8fd",
        "outputId": "414626f2-593c-4b6e-d99f-c6d720928399"
      },
      "execution_count": null,
      "outputs": [
        {
          "output_type": "stream",
          "name": "stdout",
          "text": [
            "An error occurred: name 'risky_function' is not defined\n"
          ]
        }
      ]
    },
    {
      "cell_type": "markdown",
      "source": [
        "we can also combine all of this:"
      ],
      "metadata": {
        "id": "OfOdfqYesDHm"
      }
    },
    {
      "cell_type": "code",
      "source": [
        "try:\n",
        "    # risky operations\n",
        "    result = int(\"abc\") / 0\n",
        "except ValueError:\n",
        "    print(\"Value error occurred.\")\n",
        "except ZeroDivisionError:\n",
        "    print(\"Zero division error occurred.\")\n",
        "except Exception as e:\n",
        "    print(f\"Some other error: {e}\")\n",
        "finally:\n",
        "    print(\"Cleanup code here.\")\n"
      ],
      "metadata": {
        "colab": {
          "base_uri": "https://localhost:8080/"
        },
        "id": "A2Y8ZMUPsFZd",
        "outputId": "970ad36c-7652-45e7-f6c8-1e03cc0181d4"
      },
      "execution_count": null,
      "outputs": [
        {
          "output_type": "stream",
          "name": "stdout",
          "text": [
            "Value error occurred.\n",
            "Cleanup code here.\n"
          ]
        }
      ]
    },
    {
      "cell_type": "markdown",
      "source": [
        "ummary:"
      ],
      "metadata": {
        "id": "3-W9qltGsJvl"
      }
    },
    {
      "cell_type": "code",
      "source": [
        "| Technique                | Use When...                                             |\n",
        "| ------------------------ | ------------------------------------------------------- |\n",
        "| `except (A, B)`          | Same logic for multiple exceptions                      |\n",
        "| Multiple `except` blocks | Different logic for different exceptions                |\n",
        "| `except Exception`       | Catch all errors (only if you really need to)           |\n",
        "| `finally` block          | Always run cleanup code (runs regardless of exceptions) |\n",
        "\n",
        "\n",
        "Handling exceptions well makes your code more robust and easier to debug.\n"
      ],
      "metadata": {
        "id": "jKf45RJosKw-"
      },
      "execution_count": null,
      "outputs": []
    },
    {
      "cell_type": "markdown",
      "source": [
        "# **8) What is the purpose of the with statement when handling files in Python?**\n",
        "\n",
        "ans - The with statement in Python is used to simplify and manage resources like file handling. Its main purpose is to ensure that resources (like file streams) are properly acquired and released, even if errors occur.\n",
        "\n",
        "✅ Why use with for files?\n",
        "\n",
        "When working with files, the with statement automatically:\n",
        "\n",
        "* pens the file\n",
        "\n",
        "* Executes the block of code using the file\n",
        "\n",
        "* Closes the file afterward, even if an exception occurs\n",
        "\n",
        "Example (Using with)"
      ],
      "metadata": {
        "id": "uTK7fTTQsQ6F"
      }
    },
    {
      "cell_type": "code",
      "source": [
        "with open('example.txt', 'r') as file:\n",
        "    content = file.read()\n",
        "    print(content)\n",
        "# File is automatically closed here\n"
      ],
      "metadata": {
        "id": "YfJx8rxjswG-"
      },
      "execution_count": null,
      "outputs": []
    },
    {
      "cell_type": "markdown",
      "source": [
        "Equivalent code without with:"
      ],
      "metadata": {
        "id": "nEmyVL8as3oO"
      }
    },
    {
      "cell_type": "code",
      "source": [
        "file = open('example.txt', 'r')\n",
        "try:\n",
        "    content = file.read()\n",
        "    print(content)\n",
        "finally:\n",
        "    file.close()\n"
      ],
      "metadata": {
        "id": "9f8IWapXs4Vl"
      },
      "execution_count": null,
      "outputs": []
    },
    {
      "cell_type": "markdown",
      "source": [
        "Advantages of using with:\n",
        "\n",
        "| Benefit                  | Description                                              |\n",
        "| ------------------------ | -------------------------------------------------------- |\n",
        "| **Automatic cleanup**    | File is closed automatically, reducing bugs/leaks        |\n",
        "| **Cleaner code**         | Less boilerplate than using `try`/`finally`              |\n",
        "| **Safer error handling** | Protects against file being left open if an error occurs |\n",
        "\n",
        "**Summary:**\n",
        "\n",
        "The with statement is used in Python to safely handle files and other resources. It simplifies code and ensures proper resource management, making your programs more robust and maintainable."
      ],
      "metadata": {
        "id": "x6kJGj54uNm1"
      }
    },
    {
      "cell_type": "markdown",
      "source": [
        "# **9) What is the difference between multithreading and multiprocessing?**\n",
        "\n",
        "ans- The main difference between multithreading and multiprocessing in Python lies in how they use system resources and handle parallelism:\n",
        "\n",
        "Multithreading:\n",
        "\n",
        "* Uses multiple threads within a single process.\n",
        "\n",
        "* Threads share the same memory space.\n",
        "\n",
        "* Best for I/O-bound tasks (e.g., reading files, network calls).\n",
        "\n",
        "* Limited by the Global Interpreter Lock (GIL) in CPython (so CPU-bound tasks don't run in true parallel)\n",
        "\n",
        "Example use case: Downloading files from the internet, handling multiple socket connections."
      ],
      "metadata": {
        "id": "n1KtdF25uaZn"
      }
    },
    {
      "cell_type": "code",
      "source": [
        "import threading\n",
        "\n",
        "def task():\n",
        "    print(\"Running in a thread\")\n",
        "\n",
        "thread = threading.Thread(target=task)\n",
        "thread.start()\n"
      ],
      "metadata": {
        "colab": {
          "base_uri": "https://localhost:8080/"
        },
        "id": "-hFvYIwyuxjN",
        "outputId": "ae750466-d5e2-437c-bf17-4844b6b71002"
      },
      "execution_count": null,
      "outputs": [
        {
          "output_type": "stream",
          "name": "stdout",
          "text": [
            "Running in a thread\n"
          ]
        }
      ]
    },
    {
      "cell_type": "markdown",
      "source": [
        "**Multiprocessing:**\n",
        "\n",
        "* Uses multiple processes, each with its own memory space.\n",
        "\n",
        "* True parallelism (each process runs on a separate CPU core).\n",
        "\n",
        "* Best for CPU-bound tasks (e.g., heavy computation, data processing).\n",
        "\n",
        "* Avoids the GIL, so multiple CPU cores can be fully used.\n",
        "\n",
        "Example use case: Image processing, data analysis, machine learning computations."
      ],
      "metadata": {
        "id": "Awze7EWEvAFF"
      }
    },
    {
      "cell_type": "code",
      "source": [
        "import multiprocessing\n",
        "\n",
        "def task():\n",
        "    print(\"Running in a process\")\n",
        "\n",
        "process = multiprocessing.Process(target=task)\n",
        "process.start()\n"
      ],
      "metadata": {
        "colab": {
          "base_uri": "https://localhost:8080/"
        },
        "id": "dwTe6EZ6vPtV",
        "outputId": "51b645be-7b87-4726-cb5b-4cfbca20decc"
      },
      "execution_count": null,
      "outputs": [
        {
          "output_type": "stream",
          "name": "stdout",
          "text": [
            "Running in a process"
          ]
        }
      ]
    },
    {
      "cell_type": "markdown",
      "source": [
        "Comparison Table:\n",
        "\n",
        "| Feature         | **Multithreading**         | **Multiprocessing**              |\n",
        "| --------------- | -------------------------- | -------------------------------- |\n",
        "| Parallelism     | Limited (due to GIL)       | True parallelism                 |\n",
        "| Memory          | Shared among threads       | Separate memory per process      |\n",
        "| Performance     | Better for I/O-bound tasks | Better for CPU-bound tasks       |\n",
        "| Overhead        | Low (lightweight threads)  | Higher (due to process creation) |\n",
        "| Fault isolation | Threads may crash together | Processes are isolated           |\n",
        "\n",
        "Summary:\n",
        "\n",
        "Use multithreading for tasks that wait a lot (e.g., network, disk).\n",
        "\n",
        "Use multiprocessing for tasks that compute a lot (e.g., math-heavy code)."
      ],
      "metadata": {
        "id": "GkxYQG2QvTVF"
      }
    },
    {
      "cell_type": "markdown",
      "source": [
        "# **10) What are the advantages of using logging in a program?**\n",
        "\n",
        "ans- Using logging in a program offers several important advantages over using print statements or no diagnostics at all. Here's why logging is a best practice in professional software development:\n",
        "\n",
        "✅ 1. Better Debugging and Monitoring\n",
        "\n",
        "Logging helps you understand what's happening in your program at runtime. You can:\n",
        "\n",
        "* Track execution flow\n",
        "\n",
        "* Catch unexpected errors\n",
        "\n",
        "* Inspect variable values and system state\n",
        "\n",
        "✅ 2. Different Logging Levels\n",
        "\n",
        "Python’s logging module supports different severity levels, so you can control the verbosity of your logs:\n",
        "\n",
        "* DEBUG: Detailed info for debugging\n",
        "\n",
        "* INFO: General runtime events\n",
        "\n",
        "* WARNING: Something unexpected, but still running\n",
        "\n",
        "* ERROR: An error occurred\n",
        "\n",
        "* CRITICAL: Serious error that may crash the program\n",
        "\n",
        "This lets you filter logs appropriately depending on the environment (e.g., more verbose in development, cleaner in production).\n",
        "\n",
        "✅ 3. Log to Different Destinations\n",
        "\n",
        "You can send logs to:\n",
        "\n",
        "* Console\n",
        "\n",
        "* Files\n",
        "\n",
        "* Emails\n",
        "\n",
        "* Remote logging servers\n",
        "\n",
        "* Databases\n",
        "\n",
        "This helps in monitoring and analyzing logs even after the program exits.\n",
        "\n",
        "✅ 4. Better than print()\n",
        "\n",
        "Unlike print():\n",
        "\n",
        "* Logs can include timestamps, line numbers, and module names\n",
        "\n",
        "* Logging doesn’t clutter your code with temporary print statements\n",
        "\n",
        "* Logging can be dynamically enabled/disabled or configured\n",
        "\n",
        "✅ 5. Helps in Production and Long-Running Systems\n",
        "\n",
        "Logs provide a historical record of what happened over time. This is crucial for:\n",
        "\n",
        "* Debugging issues that only appear in production\n",
        "\n",
        "* Understanding how and when failures occurred\n",
        "\n",
        "* Meeting auditing and compliance needs\n",
        "\n",
        "✅ 6. Thread- and Process-safe\n",
        "\n",
        "Python's logging module is safe to use in multi-threaded and multi-process applications — unlike simple print().\n",
        "\n",
        "Summary of Advantages:\n",
        "\n",
        "| Benefit                   | Description                             |\n",
        "| ------------------------- | --------------------------------------- |\n",
        "| Real-time diagnostics     | See what's happening in the app         |\n",
        "| Severity levels           | Control how much detail to log          |\n",
        "| Multiple output targets   | File, console, network, etc.            |\n",
        "| Scalable and configurable | Works well in large apps and production |\n",
        "| Persistent history        | Keeps a record for future analysis      |\n",
        "| Safer and more powerful   | Especially in concurrent applications   |\n",
        "\n",
        "Using logging helps you build more reliable, maintainable, and debuggable software.\n",
        "\n"
      ],
      "metadata": {
        "id": "5CiQguJFvZ5l"
      }
    },
    {
      "cell_type": "markdown",
      "source": [
        "# **11) What is memory management in Python?**\n",
        "\n",
        "ans- Memory Management in Python refers to how Python allocates, uses, and frees memory during program execution. It's mostly handled automatically, which makes Python easy to use — but understanding it helps write more efficient and error-free code.\n",
        "\n",
        "✅ Key Components of Python Memory Management:\n",
        "\n",
        ". Automatic Garbage Collection\n",
        "\n",
        "* Python automatically reclaims memory that is no longer in use using a garbage collector.\n",
        "\n",
        "* It uses reference counting (tracks how many references point to an object).\n",
        "\n",
        "* Also uses cyclic garbage collection to handle objects that reference each other in a cycle.\n",
        "\n"
      ],
      "metadata": {
        "id": "BJ7V7B7kx3mt"
      }
    },
    {
      "cell_type": "code",
      "source": [
        "import gc\n",
        "gc.collect()  # Manually trigger garbage collection (rarely needed)\n"
      ],
      "metadata": {
        "id": "2xADsj21yOKk"
      },
      "execution_count": null,
      "outputs": []
    },
    {
      "cell_type": "markdown",
      "source": [
        "2. **Reference Counting**\n",
        "\n",
        "* Each object keeps a count of how many references point to it.\n",
        "\n",
        "* When the reference count drops to zero, the memory is automatically freed.\n",
        "\n",
        "\n",
        "\n",
        "\n"
      ],
      "metadata": {
        "id": "OBlYHakqyR98"
      }
    },
    {
      "cell_type": "code",
      "source": [
        "a = [1, 2, 3]\n",
        "b = a  # reference count increases\n",
        "del a  # reference count decreases\n"
      ],
      "metadata": {
        "id": "FXEFpud0ynO9"
      },
      "execution_count": null,
      "outputs": []
    },
    {
      "cell_type": "markdown",
      "source": [
        "3. **Private Heap Space**\n",
        "\n",
        "* All Python objects and data structures are stored in a private heap.\n",
        "\n",
        "* The interpreter manages this heap — not directly accessible to the programmer.\n",
        "\n",
        "4. **Memory Pools (via pymalloc)**\n",
        "\n",
        "* Python uses an internal system called pymalloc for efficient memory allocation.\n",
        "\n",
        "* It maintains pools of memory blocks to reduce system-level memory calls and improve performance.\n",
        "\n",
        "5. **Dynamic Typing**\n",
        "\n",
        "* Variables in Python are just references to objects in memory.\n",
        "\n",
        "* The same variable can point to different types of objects over time.\n",
        "\n",
        " Tools for Monitoring Memory in Python:\n",
        "\n",
        "\n",
        "* gc module: Interface for the garbage collector.\n",
        "\n",
        "* sys.getsizeof(): Returns the size of an object.\n",
        "\n",
        "* Memory profilers like memory_profiler or tracemalloc.\n",
        "\n",
        "**Why It Matters:**\n",
        "\n",
        "| Advantage            | Description                                |\n",
        "| -------------------- | ------------------------------------------ |\n",
        "| Easier to write code | No need to manually manage memory          |\n",
        "| Avoid memory leaks   | Helps identify and clean up unused objects |\n",
        "| Improve performance  | Understand memory usage to optimize code   |\n",
        "\n",
        "✅ Summary:\n",
        "\n",
        "Memory management in Python is automatic, based on reference counting and garbage collection. Python handles memory in a way that allows developers to focus more on logic and less on manual memory allocation and deallocation — though advanced understanding is key for optimizing larger or long-running applications.\n",
        "\n"
      ],
      "metadata": {
        "id": "8A2snmLFyrH-"
      }
    },
    {
      "cell_type": "markdown",
      "source": [
        "# **12) What are the basic steps involved in exception handling in Python?**\n",
        "\n",
        "ans- ✅ Basic Steps in Exception Handling in Python\n",
        "Python provides a structured way to handle errors (called exceptions) using try, except, else, and finally blocks. Here's how you handle exceptions step by step:\n",
        "\n",
        " 1. Use a try block to wrap risky code\n",
        "This is the code that might raise an exception.\n",
        "\n",
        "\n",
        "\n"
      ],
      "metadata": {
        "id": "4TnJi2OrzniV"
      }
    },
    {
      "cell_type": "code",
      "source": [
        "try:\n",
        "    # Risky operation\n",
        "    x = 10 / 0\n"
      ],
      "metadata": {
        "id": "DcLZomqlz3c9"
      },
      "execution_count": null,
      "outputs": []
    },
    {
      "cell_type": "markdown",
      "source": [
        "2. Catch the exception with an except block\n",
        "\n",
        "This block runs only if an exception occurs in the try block."
      ],
      "metadata": {
        "id": "eQgfdw5Zz7Hd"
      }
    },
    {
      "cell_type": "code",
      "source": [
        "except ZeroDivisionError:\n",
        "    print(\"You can't divide by zero!\")\n"
      ],
      "metadata": {
        "id": "rVchfO4nz_wd"
      },
      "execution_count": null,
      "outputs": []
    },
    {
      "cell_type": "markdown",
      "source": [
        "3. Optionally use an else block\n",
        "\n",
        "This block runs only if no exception was raised in the try block."
      ],
      "metadata": {
        "id": "mDSZ-KMu0AfF"
      }
    },
    {
      "cell_type": "code",
      "source": [
        "else:\n",
        "    print(\"Division successful.\")\n"
      ],
      "metadata": {
        "id": "Z-dUDArI0Dh1"
      },
      "execution_count": null,
      "outputs": []
    },
    {
      "cell_type": "markdown",
      "source": [
        " 4. Use a finally block for cleanup (optional)\n",
        "This block always runs, whether an exception was raised or not. It's typically used for closing files, releasing resources, etc."
      ],
      "metadata": {
        "id": "LakpJZq20HRV"
      }
    },
    {
      "cell_type": "code",
      "source": [
        "finally:\n",
        "    print(\"Execution finished.\")\n"
      ],
      "metadata": {
        "id": "9jEnFQAM0JTF"
      },
      "execution_count": null,
      "outputs": []
    },
    {
      "cell_type": "markdown",
      "source": [
        "Example:"
      ],
      "metadata": {
        "id": "ozLtdrAZ0LTN"
      }
    },
    {
      "cell_type": "code",
      "source": [
        "try:\n",
        "    number = int(input(\"Enter a number: \"))\n",
        "    result = 10 / number\n",
        "except ZeroDivisionError:\n",
        "    print(\"Cannot divide by zero.\")\n",
        "except ValueError:\n",
        "    print(\"Invalid input. Please enter a number.\")\n",
        "else:\n",
        "    print(f\"Result is {result}\")\n",
        "finally:\n",
        "    print(\"Done handling exception.\")\n"
      ],
      "metadata": {
        "id": "WOZcITOd0OB9"
      },
      "execution_count": null,
      "outputs": []
    },
    {
      "cell_type": "markdown",
      "source": [],
      "metadata": {
        "id": "V7v7fnLgZKsR"
      }
    },
    {
      "cell_type": "markdown",
      "source": [
        " Summary of Steps:\n",
        "\n",
        " | Step | Keyword   | Purpose                                     |\n",
        "| ---- | --------- | ------------------------------------------- |\n",
        "| 1    | `try`     | Run code that might raise an exception      |\n",
        "| 2    | `except`  | Catch and handle specific or general errors |\n",
        "| 3    | `else`    | Run if no exceptions occurred               |\n",
        "| 4    | `finally` | Always run (for cleanup)                    |\n",
        "\n",
        "This structure makes your code more robust, readable, and safer to run, especially in real-world applications."
      ],
      "metadata": {
        "id": "N6kvhJfF0TRV"
      }
    },
    {
      "cell_type": "markdown",
      "source": [
        "# **13) Why is memory management important in Python?**\n",
        "\n",
        "ans- Why Memory Management is Important in Python\n",
        "Memory management is crucial in Python — even though it's mostly automatic — because it directly affects the performance, reliability, and scalability of your programs.\n",
        "\n",
        "✅ 1. Prevents Memory Leaks\n",
        "\n",
        "* If objects are not properly cleaned up, memory can stay occupied unnecessarily.\n",
        "\n",
        "* Over time, this can cause your program to consume more RAM, slow down, or even crash.\n",
        "\n",
        "✅ 2. Improves Performance\n",
        "\n",
        "* Efficient memory use leads to faster execution.\n",
        "\n",
        "* Unused objects should be released quickly to avoid cluttering memory with unnecessary data.\n",
        "\n",
        "✅ 3. Supports Large-Scale Applications\n",
        "\n",
        "* In applications like data processing, machine learning, or web servers, managing memory efficiently is critical to handle high loads or large datasets.\n",
        "\n",
        "✅ 4. Enables Better Resource Utilization\n",
        "\n",
        "Python apps may run on devices with limited resources (e.g., IoT, mobile).\n",
        "\n",
        "Good memory management ensures your app doesn't waste system memory.\n",
        "\n",
        "✅ 5. Helps Debugging and Maintenance\n",
        "\n",
        "* Understanding memory behavior helps you find:\n",
        "\n",
        "* Unexpected object retention\n",
        "\n",
        "* Reference cycles\n",
        "\n",
        "* High memory consumption\n",
        "\n",
        "Tools like tracemalloc, gc, and memory profilers are useful for this.\n",
        "\n",
        "✅ 6. Crucial for Long-Running Programs\n",
        "\n",
        "Services that run continuously (e.g., servers, schedulers) must not gradually consume more memory over time — or they’ll eventually crash (this is known as a memory leak).\n",
        "\n",
        " Summary Table:\n",
        "\n",
        " | Reason                      | Why it matters                                          |\n",
        "| --------------------------- | ------------------------------------------------------- |\n",
        "| Avoid memory leaks          | Prevent performance drops and crashes                   |\n",
        "| Optimize speed              | Less memory = faster access and processing              |\n",
        "| Scale apps efficiently      | Handle big data or many users without breaking          |\n",
        "| Resource-conscious software | Important on limited devices (phones, embedded systems) |\n",
        "| Debug and maintain easily   | Know what causes memory spikes or bugs                  |\n",
        "\n",
        "\n",
        "Even though Python automates memory management, writing memory-efficient code and understanding how Python handles memory can make your applications faster, safer, and more scalable.\n",
        "\n"
      ],
      "metadata": {
        "id": "TeusJVii0eKl"
      }
    },
    {
      "cell_type": "markdown",
      "source": [
        "# **14) What is the role of try and except in exception handling?**\n",
        "\n",
        "ans- ✅ Role of try and except in Exception Handling (Python)\n",
        "The try and except blocks form the core of exception handling in Python. They are used to catch and handle runtime errors (exceptions), preventing your program from crashing unexpectedly.\n",
        "\n",
        "1. try Block — Identify Risky Code\n",
        "\n",
        "* The try block contains code that might raise an exception.\n",
        "\n",
        "* If an exception occurs, Python immediately jumps to the except block.\n",
        "\n"
      ],
      "metadata": {
        "id": "10oEO6rW4BpJ"
      }
    },
    {
      "cell_type": "code",
      "source": [
        "try:\n",
        "    result = 10 / 0  # Risky code (will raise ZeroDivisionError)\n"
      ],
      "metadata": {
        "id": "mS1wVzng48rt"
      },
      "execution_count": null,
      "outputs": []
    },
    {
      "cell_type": "markdown",
      "source": [
        "2. except Block — Handle the Error\n",
        "\n",
        "* The except block handles the exception raised in the try block.\n",
        "\n",
        "* You can catch specific exceptions or use a general one to catch all."
      ],
      "metadata": {
        "id": "uIZ_3CW85Ext"
      }
    },
    {
      "cell_type": "code",
      "source": [
        "except ZeroDivisionError:\n",
        "    print(\"Cannot divide by zero.\")\n"
      ],
      "metadata": {
        "id": "nJZwRGg75Mwd"
      },
      "execution_count": null,
      "outputs": []
    },
    {
      "cell_type": "markdown",
      "source": [
        "🧠 Why Use try and except:\n",
        "\n",
        "* To prevent program crashes when something unexpected happens.\n",
        "\n",
        "* To gracefully handle errors and provide helpful messages or fallback behavior.\n",
        "\n",
        "* To make your program more robust and user-friendly.\n",
        "\n",
        " Example:\n",
        "\n"
      ],
      "metadata": {
        "id": "12F8uzXu5Q4R"
      }
    },
    {
      "cell_type": "code",
      "source": [
        "try:\n",
        "    number = int(input(\"Enter a number: \"))\n",
        "    result = 100 / number\n",
        "except ValueError:\n",
        "    print(\"That was not a valid number.\")\n",
        "except ZeroDivisionError:\n",
        "    print(\"Cannot divide by zero.\")\n"
      ],
      "metadata": {
        "id": "2Ffdnd7v7oA9"
      },
      "execution_count": null,
      "outputs": []
    },
    {
      "cell_type": "markdown",
      "source": [
        " Summary Table:\n",
        "\n",
        " | Block    | Role                           | Example Use                      |\n",
        "| -------- | ------------------------------ | -------------------------------- |\n",
        "| `try`    | Runs code that may cause error | Reading a file, dividing numbers |\n",
        "| `except` | Catches and handles the error  | Print message or retry input     |\n",
        "\n",
        "\n",
        "Bottom Line:\n",
        "\n",
        "* try = “Watch this part of the code”\n",
        "\n",
        "* except = “Here’s what to do if it fails”\n",
        "\n",
        "Using try and except helps your program fail gracefully instead of crashing."
      ],
      "metadata": {
        "id": "cGAocH9X7t9F"
      }
    },
    {
      "cell_type": "markdown",
      "source": [
        "# **15)How does Python's garbage collection system work?**\n",
        "\n",
        "ans- Python's garbage collection system is designed to manage memory automatically by reclaiming unused memory so developers don't have to manage it manually. Here's how it works in detail:\n",
        "\n",
        " 1. **Reference Counting (Primary Mechanism)**\n",
        "\n",
        "Every Python object keeps track of how many references point to it.\n",
        "\n",
        "* When a new reference is made to an object, its reference count increases.\n",
        "\n",
        "* When a reference is deleted or reassigned, the count decreases.\n",
        "\n",
        "* When the count drops to zero, the object is immediately destroyed.\n",
        "\n",
        "Example:"
      ],
      "metadata": {
        "id": "o2jnjsNq8HvX"
      }
    },
    {
      "cell_type": "code",
      "source": [
        "import sys\n",
        "\n",
        "a = []           # create a list\n",
        "b = a            # second reference to the list\n",
        "print(sys.getrefcount(a))  # shows reference count\n",
        "\n",
        "del b            # remove one reference\n",
        "print(sys.getrefcount(a))  # reference count decreases\n"
      ],
      "metadata": {
        "colab": {
          "base_uri": "https://localhost:8080/"
        },
        "id": "SfGu8VYZZ7o4",
        "outputId": "70240e21-b799-45ac-c646-b9818a55aa93"
      },
      "execution_count": null,
      "outputs": [
        {
          "output_type": "stream",
          "name": "stdout",
          "text": [
            "3\n",
            "2\n"
          ]
        }
      ]
    },
    {
      "cell_type": "markdown",
      "source": [
        "2. **Garbage Collector (for Cycles)**\n",
        "\n",
        "Reference counting can't handle cyclic references (e.g., two objects referencing each other), so Python includes a cyclic garbage collector to find and clean up such cases.\n",
        "\n",
        "Cycles Example:"
      ],
      "metadata": {
        "id": "-cZBL__NaAG4"
      }
    },
    {
      "cell_type": "code",
      "source": [
        "class Node:\n",
        "    def __init__(self):\n",
        "        self.other = None\n",
        "\n",
        "a = Node()\n",
        "b = Node()\n",
        "a.other = b\n",
        "b.other = a\n",
        "\n",
        "del a\n",
        "del b  # These objects reference each other; ref count won't hit zero\n"
      ],
      "metadata": {
        "id": "3P9fHOsHaE_p"
      },
      "execution_count": null,
      "outputs": []
    },
    {
      "cell_type": "markdown",
      "source": [
        "These will stay in memory unless the cyclic garbage collector removes them.\n",
        "\n",
        "The garbage collector:\n",
        "Periodically scans objects in memory.\n",
        "\n",
        "Uses a generational approach (explained below).\n",
        "\n",
        "Identifies unreachable objects by checking if there are no external references.\n",
        "\n",
        "\n",
        "3. **Generational Garbage Collection**\n",
        "\n",
        "Python’s garbage collector divides objects into three generations:\n",
        "\n",
        "* Generation 0: Newly created objects.\n",
        "\n",
        "* Generation 1: Surviving objects from Gen 0.\n",
        "\n",
        "* Generation 2: Long-lived objects.\n",
        "\n",
        "Why generations?\n",
        "* Most objects die young; this design optimizes performance.\n",
        "\n",
        "* Collection starts in Gen 0. If some objects survive, they're promoted.\n",
        "\n",
        "* Gen 2 is collected less frequently (more expensive).\n",
        "\n",
        "You can control it:\n"
      ],
      "metadata": {
        "id": "464JWPANaOTw"
      }
    },
    {
      "cell_type": "code",
      "source": [
        "import gc\n",
        "\n",
        "gc.collect()  # Force a garbage collection\n",
        "gc.get_threshold()  # View thresholds for each generation\n",
        "gc.set_debug(gc.DEBUG_LEAK)  # Enable verbose garbage collection logging\n"
      ],
      "metadata": {
        "id": "_pEf97reahvJ"
      },
      "execution_count": null,
      "outputs": []
    },
    {
      "cell_type": "markdown",
      "source": [
        "🧠 Summary:\n",
        "\n",
        "| Feature                | Description                            |\n",
        "| ---------------------- | -------------------------------------- |\n",
        "| **Reference Counting** | Immediate cleanup when ref count = 0   |\n",
        "| **Cycle Detection**    | Finds unreachable cyclic objects       |\n",
        "| **Generational GC**    | Improves efficiency using object aging |\n"
      ],
      "metadata": {
        "id": "lmmJAQNiakpQ"
      }
    },
    {
      "cell_type": "markdown",
      "source": [
        "# **16) What is the purpose of the else block in exception handling?**\n",
        "\n",
        "ans-In Python, the else block in exception handling is used to define code that should run only if no exception occurs in the try block.\n",
        "\n",
        "✅ Purpose of the else block\n",
        "\n",
        "* It separates \"normal\" code from error-handling code.\n",
        "\n",
        "* It runs only if the try block does not raise an exception.\n",
        "\n",
        "*If an exception occurs, the else block is skipped.\n",
        "\n",
        "🔁 Syntax:\n"
      ],
      "metadata": {
        "id": "UJlX8W5papfZ"
      }
    },
    {
      "cell_type": "code",
      "source": [
        "try:\n",
        "    # Code that might raise an exception\n",
        "except SomeException:\n",
        "    # Code that runs if an exception occurs\n",
        "else:\n",
        "    # Code that runs only if no exception occurs\n"
      ],
      "metadata": {
        "id": "Ev5z9wtebrYq"
      },
      "execution_count": null,
      "outputs": []
    },
    {
      "cell_type": "markdown",
      "source": [
        "🧠 Why use else?\n",
        "\n",
        "The main reason is clarity. It helps separate:\n",
        "\n",
        "* The code that might fail (try)\n",
        "\n",
        "* The error-handling logic (except)\n",
        "\n",
        "* The code that runs only after successful execution (else)\n",
        "\n",
        "This avoids putting everything inside the try block unnecessarily, which can accidentally catch exceptions you didn't intend to handle.\n",
        "\n"
      ],
      "metadata": {
        "id": "qf5gtCWZb3bh"
      }
    },
    {
      "cell_type": "code",
      "source": [
        "try:\n",
        "    number = int(input(\"Enter a number: \"))\n",
        "except ValueError:\n",
        "    print(\"That's not a valid number.\")\n",
        "else:\n",
        "    print(f\"You entered: {number}\")\n"
      ],
      "metadata": {
        "id": "baIhpN9Yb-oJ"
      },
      "execution_count": null,
      "outputs": []
    },
    {
      "cell_type": "markdown",
      "source": [
        "Behavior:\n",
        "\n",
        "* If you input 42, the else block runs and prints the number.\n",
        "\n",
        "* If you input \"abc\", the except block runs and the else block is skipped.\n",
        "\n",
        "✅ Optional: Combine with finally\n",
        "You can also use finally to run cleanup code regardless of what happens:"
      ],
      "metadata": {
        "id": "GpC5iy49cCe5"
      }
    },
    {
      "cell_type": "code",
      "source": [
        "try:\n",
        "    # risky operation\n",
        "except:\n",
        "    # handle error\n",
        "else:\n",
        "    # run if no exception\n",
        "finally:\n",
        "    # always runs\n"
      ],
      "metadata": {
        "id": "JgIMRJc6cH0B"
      },
      "execution_count": null,
      "outputs": []
    },
    {
      "cell_type": "markdown",
      "source": [
        "In Python, the logging module provides several standard logging levels that indicate the severity or importance of a log message.\n",
        "\n",
        "Here are the common logging levels, from lowest to highest severity:\n",
        "\n",
        "| Level      | Numeric Value | Purpose                                                                            |\n",
        "| ---------- | ------------- | ---------------------------------------------------------------------------------- |\n",
        "| `DEBUG`    | 10            | Detailed information, useful for debugging. Typically only enabled in development. |\n",
        "| `INFO`     | 20            | General information about program execution (e.g., progress, status updates).      |\n",
        "| `WARNING`  | 30            | Something unexpected happened, or a problem might occur, but it's not an error.    |\n",
        "| `ERROR`    | 40            | A more serious problem that has prevented a part of the program from working.      |\n",
        "| `CRITICAL` | 50            | A very serious error — the program may not be able to continue running.            |\n",
        "\n",
        "Example Usage:\n",
        "\n"
      ],
      "metadata": {
        "id": "XqOMWoKQcKLJ"
      }
    },
    {
      "cell_type": "code",
      "source": [
        "import logging\n",
        "\n",
        "logging.basicConfig(level=logging.DEBUG)\n",
        "\n",
        "logging.debug(\"Debugging details\")\n",
        "logging.info(\"General info\")\n",
        "logging.warning(\"Warning message\")\n",
        "logging.error(\"Error occurred\")\n",
        "logging.critical(\"Critical issue\")\n"
      ],
      "metadata": {
        "colab": {
          "base_uri": "https://localhost:8080/"
        },
        "id": "Q59j2GWWdZcw",
        "outputId": "a63595d6-fc34-420e-e0bb-b96ee8ecc5ac"
      },
      "execution_count": null,
      "outputs": [
        {
          "output_type": "stream",
          "name": "stderr",
          "text": [
            "WARNING:root:Warning message\n",
            "ERROR:root:Error occurred\n",
            "CRITICAL:root:Critical issue\n"
          ]
        }
      ]
    },
    {
      "cell_type": "markdown",
      "source": [
        "🧠 Tip:\n",
        "\n",
        "Use DEBUG for diagnosing problems.\n",
        "\n",
        "Use INFO to track normal operations.\n",
        "\n",
        "Use WARNING to flag something unusual.\n",
        "\n",
        "Use ERROR when something breaks.\n",
        "\n",
        "Use CRITICAL for fatal errors that might crash the system."
      ],
      "metadata": {
        "id": "hUYBMXLCdgmS"
      }
    },
    {
      "cell_type": "markdown",
      "source": [
        "# **18)What is the difference between os.fork() and multiprocessing in Python?**\n",
        "\n",
        "ans- The key difference between os.fork() and the multiprocessing module in Python lies in abstraction, portability, and safety. Here's a breakdown:\n",
        "\n",
        "1. os.fork(): Low-level, UNIX-only\n",
        "\n",
        "What it does: Creates a child process by duplicating the current process (only available on Unix-like systems such as Linux and macOS).\n",
        "\n",
        "Syntax:"
      ],
      "metadata": {
        "id": "2qLsX9dMdi2R"
      }
    },
    {
      "cell_type": "code",
      "source": [
        "import os\n",
        "\n",
        "pid = os.fork()\n",
        "if pid == 0:\n",
        "    # This is the child process\n",
        "    print(\"Child process\")\n",
        "else:\n",
        "    # This is the parent process\n",
        "    print(\"Parent process, child PID:\", pid)\n"
      ],
      "metadata": {
        "id": "WtJvlAAaeKXJ"
      },
      "execution_count": null,
      "outputs": []
    },
    {
      "cell_type": "markdown",
      "source": [
        "Key points:\n",
        "\n",
        "* No automatic handling of shared data or communication.\n",
        "\n",
        "* Manual management of pipes, sockets, etc., is needed for IPC (inter-process communication).\n",
        "\n",
        "* More prone to errors, especially around resources and concurrency.\n",
        "\n",
        "Not available on Windows.\n",
        "\n",
        "2. **multiprocessing: High-level, portable abstraction**\n",
        "\n",
        "What it does: Provides a cross-platform, object-oriented API to create and manage separate Python processes.\n",
        "\n",
        "Syntax:"
      ],
      "metadata": {
        "id": "O26iZmuPeNHp"
      }
    },
    {
      "cell_type": "code",
      "source": [
        "from multiprocessing import Process\n",
        "\n",
        "def worker():\n",
        "    print(\"Child process\")\n",
        "\n",
        "p = Process(target=worker)\n",
        "p.start()\n",
        "p.join()\n"
      ],
      "metadata": {
        "colab": {
          "base_uri": "https://localhost:8080/"
        },
        "id": "5adLHc39etdZ",
        "outputId": "dafafef7-51cf-4cb1-ac69-2aeae7b866e6"
      },
      "execution_count": null,
      "outputs": [
        {
          "output_type": "stream",
          "name": "stdout",
          "text": [
            "Child process\n"
          ]
        }
      ]
    },
    {
      "cell_type": "markdown",
      "source": [
        "**Key features:**\n",
        "\n",
        "* Cross-platform (works on Windows, macOS, Linux).\n",
        "\n",
        "* Has built-in support for:\n",
        "\n",
        "* Queue, Pipe → for communication.\n",
        "\n",
        "* Lock, Semaphore → for synchronization.\n",
        "\n",
        "* Pool → for parallel task execution.\n",
        "\n",
        "Each process gets its own memory space (like fork()), but with helper tools to share or communicate safely.\n",
        "\n",
        "\n",
        "Comparison Table:\n",
        "\n",
        "| Feature                 | `os.fork()`                | `multiprocessing`                     |\n",
        "| ----------------------- | -------------------------- | ------------------------------------- |\n",
        "| **Level**               | Low-level                  | High-level                            |\n",
        "| **Platform support**    | Unix/Linux/macOS only      | Cross-platform (incl. Windows)        |\n",
        "| **Ease of use**         | Manual process control     | User-friendly API                     |\n",
        "| **Inter-process Comm.** | Manual (e.g., via sockets) | Built-in (`Queue`, `Pipe`, etc.)      |\n",
        "| **Shared data**         | Manual                     | Supported via `Value`, `Array`, etc.  |\n",
        "| **Use case**            | System-level control       | Parallelism, CPU-bound task splitting |\n",
        "\n",
        "\n",
        "✅ **When to use what?**\n",
        "\n",
        "* Use multiprocessing if you're doing parallel computation, especially on Windows or you want a clean, high-level interface.\n",
        "\n",
        "* Use os.fork() only if you need fine-grained process control and you're on Unix/Linux, typically in system programming or daemon development.\n"
      ],
      "metadata": {
        "id": "OxMQb3rQeVVJ"
      }
    },
    {
      "cell_type": "markdown",
      "source": [
        "# **19) What is the importance of closing a file in Python?**\n",
        "\n",
        "ans- ✅ 1. Frees Up System Resources\n",
        "\n",
        "* mWhen you open a file, the OS allocates resources (like file descriptors).\n",
        "\n",
        "* If you don’t close the file, these resources stay occupied.\n",
        "\n",
        "* Too many open files = Too many open files error (especially in loops).\n",
        "\n",
        "✅ 2. Flushes Write Buffers\n",
        "\n",
        "When you write to a file, the data is often stored in a buffer, not immediately written to disk.\n",
        "\n",
        "file.close() flushes the buffer, ensuring all data is written to disk."
      ],
      "metadata": {
        "id": "Sej-7tt_gO7D"
      }
    },
    {
      "cell_type": "code",
      "source": [
        "f = open(\"data.txt\", \"w\")\n",
        "f.write(\"Important info\")\n",
        "f.close()  # Flushes the buffer and writes to disk\n"
      ],
      "metadata": {
        "id": "6vKgNmMRhG9J"
      },
      "execution_count": null,
      "outputs": []
    },
    {
      "cell_type": "markdown",
      "source": [
        "If you forget to close, you risk data loss if the program crashes or ends before the buffer flushes.\n",
        "\n",
        "✅ 3. Prevents File Corruption\n",
        "\n",
        "* Leaving a file open in write mode can lead to incomplete writes.\n",
        "\n",
        "* Closing it properly ensures the file structure stays intact and consistent.\n",
        "\n",
        "✅ 4. Avoids File Lock Issues\n",
        "\n",
        "* Some systems lock files while open.\n",
        "\n",
        "* Not closing a file can block other processes (or parts of your code) from accessing it.\n",
        "\n",
        "✅ 5. Good Practice\n",
        "\n",
        "* It’s a sign of clean, maintainable code.\n",
        "\n",
        "* Python offers a better way: use a with statement, which automatically closes the file, even if an error occurs.\n",
        "\n",
        "Preferred method:\n",
        "\n"
      ],
      "metadata": {
        "id": "vry1nmc9hXvi"
      }
    },
    {
      "cell_type": "code",
      "source": [
        "with open(\"data.txt\", \"w\") as f:\n",
        "    f.write(\"Safe and automatic\")\n",
        "\n",
        "# File is automatically closed here\n"
      ],
      "metadata": {
        "id": "EqpA3xQDhzYZ"
      },
      "execution_count": null,
      "outputs": []
    },
    {
      "cell_type": "markdown",
      "source": [
        "Summary:\n",
        "\n",
        "| Reason                  | Description                                 |\n",
        "| ----------------------- | ------------------------------------------- |\n",
        "| Free resources          | Releases OS file handles                    |\n",
        "| Flush buffers           | Ensures data is actually written            |\n",
        "| Prevent corruption      | Avoids incomplete writes                    |\n",
        "| Avoid locking conflicts | Ensures other processes can access the file |\n",
        "| Clean code              | Follows best practices                      |\n"
      ],
      "metadata": {
        "id": "tXZrFjBHh2HB"
      }
    },
    {
      "cell_type": "markdown",
      "source": [
        "# **20) What is the difference between file.read() and file.readline() in Python?**\n",
        "\n",
        "ans- The difference between file.read() and file.readline() in Python lies in how much data each method reads from a file.\n",
        "\n",
        " file.read(): Reads the entire file (or a specified number of bytes)\n",
        "\n",
        "* Reads the whole file content into a single string.\n",
        "\n",
        "* If you provide a number, it reads up to that many bytes/characters.\n",
        "\n",
        "Example:"
      ],
      "metadata": {
        "id": "6qIJhqw7h64x"
      }
    },
    {
      "cell_type": "code",
      "source": [
        "with open(\"example.txt\", \"r\") as f:\n",
        "    content = f.read()\n",
        "    print(content)\n"
      ],
      "metadata": {
        "id": "FlUnVTOti8t4"
      },
      "execution_count": null,
      "outputs": []
    },
    {
      "cell_type": "markdown",
      "source": [
        "🔹 Use this when you want everything at once.\n",
        "\n",
        "file.readline():\n",
        "\n",
        " Reads one line at a time\n",
        "Reads a single line from the file (up to the newline \\n).\n",
        "\n",
        "Each call to readline() gets the next line.\n",
        "\n",
        "Useful for processing files line by line, especially large ones."
      ],
      "metadata": {
        "id": "b1rbi45Ji_qA"
      }
    },
    {
      "cell_type": "code",
      "source": [
        "with open(\"example.txt\", \"r\") as f:\n",
        "    line1 = f.readline()\n",
        "    line2 = f.readline()\n",
        "    print(line1, line2)\n"
      ],
      "metadata": {
        "id": "CZbgVnxFjJG5"
      },
      "execution_count": null,
      "outputs": []
    },
    {
      "cell_type": "markdown",
      "source": [
        "Example:"
      ],
      "metadata": {
        "id": "RFxTEFuvjLsB"
      }
    },
    {
      "cell_type": "code",
      "source": [
        "with open(\"example.txt\", \"r\") as f:\n",
        "    line1 = f.readline()\n",
        "    line2 = f.readline()\n",
        "    print(line1, line2)\n"
      ],
      "metadata": {
        "id": "Ykh8_HHRjPvI"
      },
      "execution_count": null,
      "outputs": []
    },
    {
      "cell_type": "markdown",
      "source": [
        " Use this when reading line-by-line (e.g., log files, large data files).\n",
        "\n",
        " Comparison Table:\n",
        "\n",
        " | Feature          | `file.read()`                      | `file.readline()`                 |\n",
        "| ---------------- | ---------------------------------- | --------------------------------- |\n",
        "| **Reads**        | Whole file or specified byte count | One line at a time                |\n",
        "| **Returns**      | A single string                    | A single line (string, with `\\n`) |\n",
        "| **Memory Usage** | Can be high for large files        | Efficient for large files         |\n",
        "| **Use Case**     | When you need the whole content    | When processing line-by-line      |\n",
        "\n",
        "\n",
        "✅ Example for large file:\n",
        "\n"
      ],
      "metadata": {
        "id": "NMdS70ILjclV"
      }
    },
    {
      "cell_type": "code",
      "source": [
        "with open(\"bigfile.txt\", \"r\") as f:\n",
        "    for line in f:\n",
        "        process(line)  # Efficient; uses readline under the hood\n"
      ],
      "metadata": {
        "id": "KRgNc3nnjnh4"
      },
      "execution_count": null,
      "outputs": []
    },
    {
      "cell_type": "markdown",
      "source": [
        "# **21) What is the logging module in Python used for?**\n",
        "\n",
        "ans- The logging module in Python is used for tracking events that happen while your program runs. It helps developers understand what the program is doing, diagnose problems, and monitor performance or behavior—without interrupting the program flow like print() statements.\n",
        "\n",
        "**Why use logging instead of print()?**\n",
        "\n",
        "* More flexible: Supports different levels of severity.\n",
        "\n",
        "* Can log to files, not just the console.\n",
        "\n",
        "* nBuilt-in time-stamping, formatting, and categorization.\n",
        "\n",
        "* Easily turned on/off or redirected to other systems.\n",
        "\n",
        "* Supports multiple output destinations (console, files, network, email, etc.).\n",
        "\n",
        "\n",
        "Basic Example:\n",
        "\n"
      ],
      "metadata": {
        "id": "29PKLjD2j8Rz"
      }
    },
    {
      "cell_type": "code",
      "source": [
        "import logging\n",
        "\n",
        "logging.basicConfig(level=logging.INFO)\n",
        "\n",
        "logging.debug(\"This is a debug message\")\n",
        "logging.info(\"Program started\")\n",
        "logging.warning(\"Something might be wrong\")\n",
        "logging.error(\"Something went wrong\")\n",
        "logging.critical(\"Serious error – shutting down\")\n"
      ],
      "metadata": {
        "id": "_2-cujullcoZ"
      },
      "execution_count": null,
      "outputs": []
    },
    {
      "cell_type": "markdown",
      "source": [
        "🚦 Logging Levels (in order of severity):\n",
        "\n",
        "| Level      | Purpose                              |\n",
        "| ---------- | ------------------------------------ |\n",
        "| `DEBUG`    | Detailed info for debugging          |\n",
        "| `INFO`     | Confirmation that things are working |\n",
        "| `WARNING`  | Something unexpected, not fatal      |\n",
        "| `ERROR`    | A failure that affects functionality |\n",
        "| `CRITICAL` | Serious failure, app might crash     |\n",
        "\n",
        " Logging to a File:\n"
      ],
      "metadata": {
        "id": "Uf-pLpx-lgcQ"
      }
    },
    {
      "cell_type": "code",
      "source": [
        "logging.basicConfig(filename='app.log', level=logging.WARNING)\n",
        "logging.warning(\"This goes to the log file\")\n"
      ],
      "metadata": {
        "id": "GgCTdFKXluLY"
      },
      "execution_count": null,
      "outputs": []
    },
    {
      "cell_type": "markdown",
      "source": [
        "✅ Use Cases:\n",
        "\n",
        "* Debugging during development.\n",
        "\n",
        "* Monitoring application health in production.\n",
        "\n",
        "* Capturing runtime events in long-running scripts.\n",
        "\n",
        "* Auditing user actions in software.\n",
        "\n",
        "🔒 Best Practices:\n",
        "\n",
        "* Don't use print() for debugging in production code.\n",
        "\n",
        "* Use logging with appropriate levels.\n",
        "\n",
        "* Use handlers and formatters for better control over output."
      ],
      "metadata": {
        "id": "Jsd7A13AlwdC"
      }
    },
    {
      "cell_type": "markdown",
      "source": [
        "# **22) What is the os module in Python used for in file handling?**\n",
        "\n",
        "ans- What is the os module in Python used for in file handling\n",
        "\n",
        "\n",
        "ChatGPT said:\n",
        "The os module in Python is used for interacting with the operating system, and it's especially helpful in file and directory handling. It provides a wide range of functions to create, remove, navigate, and manage files and directories.\n",
        "\n",
        "📁 Key Uses of os in File Handling\n",
        "\n",
        "Here are the most common file-related operations you can perform using os:\n",
        "\n",
        "📍 1. Working with Paths"
      ],
      "metadata": {
        "id": "B_GzCPzJmCDC"
      }
    },
    {
      "cell_type": "code",
      "source": [
        "import os\n",
        "\n",
        "os.getcwd()           # Get current working directory\n",
        "os.chdir('/path')     # Change current working directory\n",
        "os.path.join(a, b)    # Safely join paths\n",
        "os.path.abspath('file.txt')  # Get absolute path\n"
      ],
      "metadata": {
        "id": "TQx_eBfymTOY"
      },
      "execution_count": null,
      "outputs": []
    },
    {
      "cell_type": "markdown",
      "source": [
        "2. Directory Operations"
      ],
      "metadata": {
        "id": "7s5WxD1JmVrR"
      }
    },
    {
      "cell_type": "code",
      "source": [
        "os.mkdir('new_folder')        # Create a new directory\n",
        "os.makedirs('a/b/c')          # Create nested directories\n",
        "os.rmdir('folder')            # Remove an empty directory\n",
        "os.removedirs('a/b/c')        # Remove nested directories\n"
      ],
      "metadata": {
        "id": "7QOfx4rUmWOg"
      },
      "execution_count": null,
      "outputs": []
    },
    {
      "cell_type": "markdown",
      "source": [
        " 3. File Operations"
      ],
      "metadata": {
        "id": "wTUbA4bzmZZS"
      }
    },
    {
      "cell_type": "code",
      "source": [
        "os.remove('file.txt')         # Delete a file\n",
        "os.rename('old.txt', 'new.txt')  # Rename a file or directory\n"
      ],
      "metadata": {
        "id": "GpqzaHLemaN5"
      },
      "execution_count": null,
      "outputs": []
    },
    {
      "cell_type": "markdown",
      "source": [
        "4. Listing Files and Directories"
      ],
      "metadata": {
        "id": "YhqgzwWImcGC"
      }
    },
    {
      "cell_type": "code",
      "source": [
        "os.listdir('.')               # List files and folders in current directory\n"
      ],
      "metadata": {
        "id": "K74JZqWLmeja"
      },
      "execution_count": null,
      "outputs": []
    },
    {
      "cell_type": "markdown",
      "source": [
        "5. Check Existence and Type"
      ],
      "metadata": {
        "id": "Qwev_bepmgcJ"
      }
    },
    {
      "cell_type": "code",
      "source": [
        "os.path.exists('file.txt')    # Check if a file or folder exists\n",
        "os.path.isfile('file.txt')    # Is it a file?\n",
        "os.path.isdir('folder')       # Is it a directory?\n"
      ],
      "metadata": {
        "id": "k5akmYyUmkR5"
      },
      "execution_count": null,
      "outputs": []
    },
    {
      "cell_type": "markdown",
      "source": [
        "✅ Example: Remove all .txt files from a directory"
      ],
      "metadata": {
        "id": "BUMzo8_RmlF5"
      }
    },
    {
      "cell_type": "code",
      "source": [
        "import os\n",
        "\n",
        "for file in os.listdir('.'):\n",
        "    if file.endswith('.txt'):\n",
        "        os.remove(file)\n"
      ],
      "metadata": {
        "id": "DbzsMzZDmoir"
      },
      "execution_count": null,
      "outputs": []
    },
    {
      "cell_type": "markdown",
      "source": [
        " Summary:\n",
        "\n",
        " | Task                  | `os` Function                          |\n",
        "| --------------------- | -------------------------------------- |\n",
        "| Get current directory | `os.getcwd()`                          |\n",
        "| Change directory      | `os.chdir()`                           |\n",
        "| List contents         | `os.listdir()`                         |\n",
        "| Create/delete folders | `os.mkdir()`, `os.rmdir()`             |\n",
        "| Remove/rename files   | `os.remove()`, `os.rename()`           |\n",
        "| Check paths           | `os.path.exists()`, `os.path.isfile()` |\n",
        "\n",
        "The os module is often used together with the shutil and pathlib modules for more advanced file operations."
      ],
      "metadata": {
        "id": "-JdGXwUimqva"
      }
    },
    {
      "cell_type": "markdown",
      "source": [
        "# **23) What are the challenges associated with memory management in Python?**\n",
        "\n",
        "ans - Memory management in Python is mostly automatic thanks to its built-in garbage collection and dynamic typing, but there are still several challenges and pitfalls developers may encounter:\n",
        "\n",
        "1. Memory Leaks (Yes, even in Python!)\n",
        "\n",
        "Python doesn't prevent memory leaks — it just hides them better.\n",
        "\n",
        "Leaks often happen through:\n",
        "\n",
        "Global variables or long-lived references.\n",
        "\n",
        "Cyclic references that aren’t collected properly.\n",
        "\n",
        "Caching, event listeners, or closures retaining unnecessary data.\n",
        "\n",
        "🔍 Example:"
      ],
      "metadata": {
        "id": "tDHKTYnrmxMI"
      }
    },
    {
      "cell_type": "code",
      "source": [
        "leak = []\n",
        "def create_leak():\n",
        "    a = [1] * 100000\n",
        "    leak.append(a)  # Keeps growing memory usage\n"
      ],
      "metadata": {
        "id": "BQ4SZpktn3UZ"
      },
      "execution_count": null,
      "outputs": []
    },
    {
      "cell_type": "markdown",
      "source": [
        "2. Cyclic References\n",
        "\n",
        "Python uses reference counting, which can’t clean up reference cycles (e.g., two objects referencing each other).\n",
        "\n",
        "The garbage collector handles cycles, but it may not collect them immediately or consistently.\n",
        "\n",
        "✅ Use weakref for non-owning references to help break cycles when needed.\n",
        "\n",
        "\n",
        " 3. High Memory Overhead\n",
        "\n",
        "Python is a high-level language, so objects (like integers, strings, lists) have more memory overhead than in lower-level languages.\n",
        "\n",
        "Lists, dictionaries, and objects often use more memory than you'd expect.\n",
        "\n",
        "🧪 Tools like sys.getsizeof() help measure object sizes.\n",
        "\n",
        "💥 4. Memory Fragmentation\n",
        "\n",
        "Internally, Python may suffer from fragmented memory, especially in long-running processes or programs with a lot of allocation/deallocation.\n",
        "\n",
        "This can lead to inefficient use of memory over time.\n",
        "\n",
        " 5. Object Mutability and Copying\n",
        "\n",
        "Unintended shallow vs. deep copies of large data structures (like lists of lists) can lead to duplicated memory or hard-to-trace bugs.\n",
        "\n"
      ],
      "metadata": {
        "id": "7QG471zxn4OZ"
      }
    },
    {
      "cell_type": "code",
      "source": [
        "import copy\n",
        "a = [[1]*1000]*1000\n",
        "b = copy.deepcopy(a)  # Expensive, but safe\n"
      ],
      "metadata": {
        "id": "rnc4rcBlor7R"
      },
      "execution_count": null,
      "outputs": []
    },
    {
      "cell_type": "markdown",
      "source": [
        "⚠️ 6. Large Data Handling\n",
        "\n",
        "When working with large datasets (e.g., from files, databases, or APIs), it's easy to load everything into memory.\n",
        "\n",
        "This can exhaust RAM and crash your program.\n",
        "\n",
        "✅ Solution: Use generators, lazy loading, and chunked reading.\n",
        "\n",
        "🛠 7. Lack of Manual Control\n",
        "\n",
        "Python doesn’t offer explicit memory management like C (malloc, free).\n",
        "\n",
        "You depend on the interpreter’s garbage collector, which may not always behave exactly as you expect.\n",
        "\n",
        "\n",
        "📊 Tools to Help Manage Memory\n",
        "\n",
        "inspect and control GC).\n",
        "\n",
        "tracemalloc — Track memory allocations.\n",
        "\n",
        "objgraph — Visualize object references and memory usage.\n",
        "\n",
        "memory_profiler — Line-by-line memory usage in scripts.\n",
        "\n",
        "\n",
        "✅ Summary of Key Challenges:\n",
        "\n",
        "| Challenge              | Description                         |\n",
        "| ---------------------- | ----------------------------------- |\n",
        "| Memory leaks           | Objects unintentionally kept alive  |\n",
        "| Cyclic references      | May not be collected promptly       |\n",
        "| High object overhead   | Python objects use more memory      |\n",
        "| Fragmentation          | Long runs may degrade memory layout |\n",
        "| Data duplication       | Careless copies waste memory        |\n",
        "| Limited manual control | Can't explicitly free memory        |\n",
        "| Large data structures  | Risk of exceeding available RAM     |\n",
        "\n",
        "\n"
      ],
      "metadata": {
        "id": "W5-InQAfouDC"
      }
    },
    {
      "cell_type": "markdown",
      "source": [
        "# **24) How do you raise an exception manually in Python?**\n",
        "\n",
        "ans- In Python, you can raise an exception manually using the raise keyword. This is useful when you want to signal that an error has occurred based on some condition in your code.\n",
        "\n",
        "✅ Basic Syntax:"
      ],
      "metadata": {
        "id": "11ZsXi_QpFeA"
      }
    },
    {
      "cell_type": "code",
      "source": [
        "raise ExceptionType(\"Optional error message\")\n"
      ],
      "metadata": {
        "id": "UMZG4ZFmpVVg"
      },
      "execution_count": null,
      "outputs": []
    },
    {
      "cell_type": "markdown",
      "source": [
        "🔹 Example 1: Raising a built-in exception"
      ],
      "metadata": {
        "id": "Nw8VutTJpXiR"
      }
    },
    {
      "cell_type": "code",
      "source": [
        "x = -1\n",
        "if x < 0:\n",
        "    raise ValueError(\"x must be non-negative\")\n"
      ],
      "metadata": {
        "id": "_qOJui-4pZEq"
      },
      "execution_count": null,
      "outputs": []
    },
    {
      "cell_type": "markdown",
      "source": [
        "This raises a ValueError with a custom message.\n",
        "\n",
        "🔹 Example 2: Raising without a message\n",
        "\n"
      ],
      "metadata": {
        "id": "_z7wTt5KpbKq"
      }
    },
    {
      "cell_type": "code",
      "source": [
        "raise RuntimeError\n"
      ],
      "metadata": {
        "id": "CisuMGj9p7sh"
      },
      "execution_count": null,
      "outputs": []
    },
    {
      "cell_type": "markdown",
      "source": [
        "🔹 Example 3: Raising a custom exception"
      ],
      "metadata": {
        "id": "EtJhlh71p-t7"
      }
    },
    {
      "cell_type": "code",
      "source": [
        "class MyCustomError(Exception):\n",
        "    pass\n",
        "\n",
        "raise MyCustomError(\"Something specific went wrong\")\n"
      ],
      "metadata": {
        "id": "g-yvs6ptqmyq"
      },
      "execution_count": null,
      "outputs": []
    },
    {
      "cell_type": "markdown",
      "source": [
        "You can define your own exceptions by subclassing Exception.\n",
        "\n",
        "⚠️ Re-raising exceptions (inside except)\n",
        "Sometimes you may want to catch and re-raise an exception:\n",
        "\n"
      ],
      "metadata": {
        "id": "42UffKLDqspK"
      }
    },
    {
      "cell_type": "code",
      "source": [
        "try:\n",
        "    x = int(\"abc\")\n",
        "except ValueError:\n",
        "    print(\"Caught it!\")\n",
        "    raise  # Re-raises the original exception\n"
      ],
      "metadata": {
        "id": "7rGg8h32rdmp"
      },
      "execution_count": null,
      "outputs": []
    },
    {
      "cell_type": "markdown",
      "source": [
        "🧠 When to raise exceptions\n",
        "\n",
        "To enforce input validation\n",
        "\n",
        "To signal illegal states or misuse of code\n",
        "\n",
        "To handle unexpected conditions gracefully\n",
        "\n"
      ],
      "metadata": {
        "id": "CYgksTUCtwAc"
      }
    },
    {
      "cell_type": "markdown",
      "source": [
        "# **25) Why is it important to use multithreading in certain applications?**\n",
        "\n",
        "ans- Multithreading is important in certain applications because it allows multiple tasks to run concurrently, improving performance, responsiveness, and resource utilization—especially when tasks involve waiting or I/O operations.\n",
        "\n",
        "✅ Key Reasons to Use Multithreading:\n",
        "1. Improved Responsiveness (UI/Servers)\n",
        "In GUI applications or web servers, multithreading keeps the program responsive while performing background tasks.\n",
        "\n",
        "Example: A UI thread handles user input while a background thread loads data from disk.\n",
        "\n",
        "\n",
        "2. Concurrency for I/O-Bound Tasks\n",
        "When tasks wait on external resources (e.g., files, networks, databases), multithreading lets other threads work in the meantime.\n",
        "\n",
        "Example: A file download thread doesn’t block the main thread from serving other requests.\n",
        "\n",
        "\n",
        "3. Resource Sharing\n",
        "Threads in the same process share memory space, making communication and data sharing more efficient than in multiprocessing.\n",
        "\n",
        "\n",
        "4. Better CPU Utilization (in specific cases)\n",
        "For I/O-bound programs, multithreading helps keep the CPU busy while waiting for I/O operations.\n",
        "\n",
        "(⚠️ For CPU-bound tasks, Python’s Global Interpreter Lock (GIL) limits multithreading’s benefits—use multiprocessing instead.)\n",
        "\n",
        "5. Simplified Program Structure\n",
        "Multithreading can simplify logic where tasks are naturally parallel (e.g., handling multiple clients in a server, or parallel downloads).\n",
        "\n",
        "Example Use Cases:\n",
        "| Application Type | Why Use Multithreading?             |\n",
        "| ---------------- | ----------------------------------- |\n",
        "| Web servers      | Handle many requests simultaneously |\n",
        "| GUI applications | Keep UI responsive while processing |\n",
        "| Network tools    | Perform concurrent connections      |\n",
        "| File processors  | Read/write multiple files at once   |\n",
        "| Background tasks | Run timers, loggers, or monitors    |\n",
        "\n",
        "\n",
        "⚠️ Considerations:\n",
        "\n",
        "Python has a Global Interpreter Lock (GIL), which limits parallel execution of threads in CPU-bound tasks.\n",
        "\n",
        "For CPU-intensive work, use multiprocessing.\n",
        "\n",
        "You must manage race conditions, deadlocks, and synchronization carefully using tools like Lock, Semaphore, or Queue.\n",
        "\n",
        "\n",
        "Simple Example:\n"
      ],
      "metadata": {
        "id": "vlmr6vawuMa7"
      }
    },
    {
      "cell_type": "code",
      "source": [
        "import threading\n",
        "\n",
        "def worker():\n",
        "    print(\"Thread running\")\n",
        "\n",
        "t = threading.Thread(target=worker)\n",
        "t.start()\n"
      ],
      "metadata": {
        "id": "kV3ZuKpguxcs"
      },
      "execution_count": null,
      "outputs": []
    },
    {
      "cell_type": "markdown",
      "source": [
        "✅ Summary:\n",
        "\n",
        "Use multithreading when your application:\n",
        "\n",
        "Is I/O-bound\n",
        "\n",
        "Needs to stay responsive\n",
        "\n",
        "Benefits from concurrent operations"
      ],
      "metadata": {
        "id": "5mTtFH2Xu0wa"
      }
    },
    {
      "cell_type": "markdown",
      "source": [
        "#                 **Practical question:**"
      ],
      "metadata": {
        "id": "cguOtkdlu7u8"
      }
    },
    {
      "cell_type": "markdown",
      "source": [
        "# **1) How can you open a file for writing in Python and write a string to it?**\n",
        "\n",
        "ans- To open a file for writing in Python and write a string to it, you can use the built-in open() function with the write mode 'w'. Here’s how:\n",
        "\n",
        "✅ Basic Syntax:"
      ],
      "metadata": {
        "id": "4uIPeND2vJiM"
      }
    },
    {
      "cell_type": "code",
      "source": [
        "with open(\"filename.txt\", \"w\") as file:\n",
        "    file.write(\"This is the text to write\")\n"
      ],
      "metadata": {
        "id": "TPze5RI1vfOz"
      },
      "execution_count": null,
      "outputs": []
    },
    {
      "cell_type": "markdown",
      "source": [
        "🔍 Explanation:\n",
        "\"filename.txt\": Name of the file (will be created if it doesn’t exist).\n",
        "\n",
        "\"w\" mode: Write mode. It:\n",
        "\n",
        "Creates the file if it doesn’t exist.\n",
        "\n",
        "Overwrites the file if it already exists.\n",
        "\n",
        "file.write(...): Writes the string to the file.\n",
        "\n",
        "with: Ensures the file is automatically closed properly, even if an error occurs.\n",
        "\n"
      ],
      "metadata": {
        "id": "EH2JdkpGvkYr"
      }
    },
    {
      "cell_type": "markdown",
      "source": [
        "🧪 Example:"
      ],
      "metadata": {
        "id": "unbZ9AK8vu3r"
      }
    },
    {
      "cell_type": "code",
      "source": [
        "text = \"Hello, world!\\nWelcome to file handling in Python.\"\n",
        "\n",
        "with open(\"example.txt\", \"w\") as f:\n",
        "    f.write(text)\n"
      ],
      "metadata": {
        "id": "X5aLUjfwvl5D"
      },
      "execution_count": null,
      "outputs": []
    },
    {
      "cell_type": "markdown",
      "source": [
        "After running this code, a file named example.txt will contain:"
      ],
      "metadata": {
        "id": "xJ0Oc1uAvyWc"
      }
    },
    {
      "cell_type": "code",
      "source": [
        "Hello, world!\n",
        "Welcome to file handling in Python.\n"
      ],
      "metadata": {
        "id": "FvgFhp8zvy-b"
      },
      "execution_count": null,
      "outputs": []
    },
    {
      "cell_type": "markdown",
      "source": [
        "🛑 Important Tips:\n",
        "\n",
        "* Use 'a' (append mode) if you want to add to the file instead of overwriting it.\n",
        "\n",
        "* Use with to automatically close the file — don’t use f.close() manually unless you're outside a with block."
      ],
      "metadata": {
        "id": "_la7bDNPv2XL"
      }
    },
    {
      "cell_type": "markdown",
      "source": [
        "# **2) Write a Python program to read the contents of a file and print each line?**\n",
        "\n",
        "ans- ✅ Python Program to Read and Print Each Line from a File"
      ],
      "metadata": {
        "id": "HbFAuTqVv_Q6"
      }
    },
    {
      "cell_type": "code",
      "source": [
        "# Open the file in read mode\n",
        "with open(\"example.txt\", \"r\") as file:\n",
        "    # Loop through each line in the file\n",
        "    for line in file:\n",
        "        print(line.strip())  # strip() removes the newline character\n"
      ],
      "metadata": {
        "id": "77Tha_OqwW8D"
      },
      "execution_count": null,
      "outputs": []
    },
    {
      "cell_type": "markdown",
      "source": [
        "🔍 Explanation:\n",
        "\n",
        "\"example.txt\": Replace this with your actual file name.\n",
        "\n",
        "with open(...) as file: Automatically closes the file after reading.\n",
        "\n",
        "for line in file: Iterates line by line.\n",
        "\n",
        "line.strip(): Removes any leading/trailing whitespace, including \\n.\n",
        "\n",
        "📄 Example File (example.txt)\n"
      ],
      "metadata": {
        "id": "6exqDk8qwa4s"
      }
    },
    {
      "cell_type": "code",
      "source": [
        "Hello, world!\n",
        "This is a test file.\n",
        "Python is fun.\n"
      ],
      "metadata": {
        "colab": {
          "base_uri": "https://localhost:8080/",
          "height": 106
        },
        "id": "MgMrFQBNwhSj",
        "outputId": "62dd98dd-32f5-4e08-df46-241e12070787"
      },
      "execution_count": null,
      "outputs": [
        {
          "output_type": "error",
          "ename": "SyntaxError",
          "evalue": "invalid syntax (<ipython-input-7-90c55f7a2ccf>, line 1)",
          "traceback": [
            "\u001b[0;36m  File \u001b[0;32m\"<ipython-input-7-90c55f7a2ccf>\"\u001b[0;36m, line \u001b[0;32m1\u001b[0m\n\u001b[0;31m    Hello, world!\u001b[0m\n\u001b[0m                ^\u001b[0m\n\u001b[0;31mSyntaxError\u001b[0m\u001b[0;31m:\u001b[0m invalid syntax\n"
          ]
        }
      ]
    },
    {
      "cell_type": "markdown",
      "source": [
        "Output:"
      ],
      "metadata": {
        "id": "JP6oTBQawljS"
      }
    },
    {
      "cell_type": "code",
      "source": [
        "Hello, world!\n",
        "This is a test file.\n",
        "Python is fun.\n"
      ],
      "metadata": {
        "id": "8SGte3O_woZr"
      },
      "execution_count": null,
      "outputs": []
    },
    {
      "cell_type": "markdown",
      "source": [
        "Let me know if you'd like to:\n",
        "\n",
        "Read only certain lines\n",
        "\n",
        "Search for specific words\n",
        "\n",
        "Handle very large files efficiently"
      ],
      "metadata": {
        "id": "f305j_0nwnj3"
      }
    },
    {
      "cell_type": "markdown",
      "source": [
        "# **3)How would you handle a case where the file doesn't exist while trying to open it for reading?**\n",
        "\n",
        "ans- To handle a case where a file doesn't exist while trying to open it for reading in Python, you should use a try...except block to catch the FileNotFoundError.\n",
        "\n",
        "✅ Example: Handling Missing File"
      ],
      "metadata": {
        "id": "S3zwl9JDwujj"
      }
    },
    {
      "cell_type": "code",
      "source": [
        "filename = \"nonexistent.txt\"\n",
        "\n",
        "try:\n",
        "    with open(filename, \"r\") as file:\n",
        "        content = file.read()\n",
        "        print(content)\n",
        "except FileNotFoundError:\n",
        "    print(f\"Error: The file '{filename}' does not exist.\")\n"
      ],
      "metadata": {
        "id": "zkP2m7u9xAuE"
      },
      "execution_count": null,
      "outputs": []
    },
    {
      "cell_type": "markdown",
      "source": [
        "🔍 Explanation:\n",
        "\n",
        "open(filename, \"r\"): Tries to open the file in read mode.\n",
        "\n",
        "If the file doesn't exist, Python raises a FileNotFoundError.\n",
        "\n",
        "The except block catches this and handles it gracefully without crashing the program.\n",
        "\n",
        "✅ Optional: Handle Other I/O Errors Too\n",
        "\n",
        "You can also catch other exceptions using IOError (or its subclass OSError) for broader error handling:"
      ],
      "metadata": {
        "id": "7ZsdesplxDyr"
      }
    },
    {
      "cell_type": "code",
      "source": [
        "try:\n",
        "    with open(\"file.txt\", \"r\") as f:\n",
        "        print(f.read())\n",
        "except FileNotFoundError:\n",
        "    print(\"File not found.\")\n",
        "except IOError:\n",
        "    print(\"An I/O error occurred.\")\n"
      ],
      "metadata": {
        "id": "G9pz0RA7xJqz"
      },
      "execution_count": null,
      "outputs": []
    },
    {
      "cell_type": "markdown",
      "source": [
        "# ** 4) Write a Python script that reads from one file and writes its content to another file?**\n",
        "\n",
        "ans- ✅ Python Script: Copy File Content\n"
      ],
      "metadata": {
        "id": "ljnBP9BgxPnU"
      }
    },
    {
      "cell_type": "code",
      "source": [
        "# Source and destination file names\n",
        "source_file = \"input.txt\"\n",
        "destination_file = \"output.txt\"\n",
        "\n",
        "try:\n",
        "    # Open source file in read mode and destination file in write mode\n",
        "    with open(source_file, \"r\") as src, open(destination_file, \"w\") as dest:\n",
        "        for line in src:\n",
        "            dest.write(line)\n",
        "    print(f\"Content copied from '{source_file}' to '{destination_file}' successfully.\")\n",
        "except FileNotFoundError:\n",
        "    print(f\"Error: '{source_file}' not found.\")\n",
        "except IOError as e:\n",
        "    print(f\"An I/O error occurred: {e}\")\n"
      ],
      "metadata": {
        "id": "Zneewxi9xax0"
      },
      "execution_count": null,
      "outputs": []
    },
    {
      "cell_type": "markdown",
      "source": [
        "🔍 Explanation:\n",
        "\n",
        "open(source_file, \"r\"): Opens the input file for reading.\n",
        "\n",
        "open(destination_file, \"w\"): Opens the output file for writing (overwrites if exists).\n",
        "\n",
        "for line in src: Reads and writes line by line, which is memory-efficient for large files.\n",
        "\n",
        "try...except: Handles errors like missing source file or permission issues."
      ],
      "metadata": {
        "id": "LlBx8gLDxdQE"
      }
    },
    {
      "cell_type": "markdown",
      "source": [
        "# **5) How would you catch and handle division by zero error in Python?**\n",
        "\n",
        "ans- To catch and handle a division by zero error in Python, you use a try...except block and specifically catch the ZeroDivisionError.\n",
        "\n",
        "✅ Example: Handling Division by Zero"
      ],
      "metadata": {
        "id": "xBbAINbjxkps"
      }
    },
    {
      "cell_type": "code",
      "source": [
        "try:\n",
        "    numerator = 10\n",
        "    denominator = 0\n",
        "    result = numerator / denominator\n",
        "    print(\"Result:\", result)\n",
        "except ZeroDivisionError:\n",
        "    print(\"Error: Division by zero is not allowed.\")\n"
      ],
      "metadata": {
        "id": "mgvmXyBzxxAE"
      },
      "execution_count": null,
      "outputs": []
    },
    {
      "cell_type": "markdown",
      "source": [
        "🔍 Explanation:\n",
        "numerator / denominator: This line raises a ZeroDivisionError if denominator is 0.\n",
        "\n",
        "The except ZeroDivisionError block catches that specific exception and handles it gracefully.\n",
        "\n",
        "✅ Optional: Handle Multiple Exceptions"
      ],
      "metadata": {
        "id": "tjOngLudxy5D"
      }
    },
    {
      "cell_type": "code",
      "source": [
        "try:\n",
        "    x = int(input(\"Enter numerator: \"))\n",
        "    y = int(input(\"Enter denominator: \"))\n",
        "    print(\"Result:\", x / y)\n",
        "except ZeroDivisionError:\n",
        "    print(\"Cannot divide by zero.\")\n",
        "except ValueError:\n",
        "    print(\"Please enter valid integers.\")\n"
      ],
      "metadata": {
        "id": "woHbO2Sdx1Q7"
      },
      "execution_count": null,
      "outputs": []
    },
    {
      "cell_type": "markdown",
      "source": [
        "Why Handle It?\n",
        "\n",
        "Prevents your program from crashing.\n",
        "\n",
        "Allows you to show user-friendly messages or retry logic.\n",
        "\n",
        "Encourages robust, error-resistant code.\n",
        "\n"
      ],
      "metadata": {
        "id": "SLfVjuzsx4W8"
      }
    },
    {
      "cell_type": "markdown",
      "source": [
        "# **6) Write a Python program that logs an error message to a log file when a division by zero exception occurs?**\n",
        "\n",
        "ans- ✅ Python Program to Log Division by Zero Error"
      ],
      "metadata": {
        "id": "iEfXnZzax6_7"
      }
    },
    {
      "cell_type": "code",
      "source": [
        "import logging\n",
        "\n",
        "# Configure logging to write to a file\n",
        "logging.basicConfig(\n",
        "    filename='error.log',\n",
        "    level=logging.ERROR,\n",
        "    format='%(asctime)s - %(levelname)s - %(message)s'\n",
        ")\n",
        "\n",
        "# Function that attempts division and logs if error occurs\n",
        "def divide(a, b):\n",
        "    try:\n",
        "        result = a / b\n",
        "        print(\"Result:\", result)\n",
        "    except ZeroDivisionError as e:\n",
        "        logging.error(\"Division by zero error: %s\", e)\n",
        "        print(\"Error: Division by zero. Check error.log for details.\")\n",
        "\n",
        "# Example usage\n",
        "x = 10\n",
        "y = 0\n",
        "divide(x, y)\n"
      ],
      "metadata": {
        "id": "2Mt0oQYiyJ1E"
      },
      "execution_count": null,
      "outputs": []
    },
    {
      "cell_type": "markdown",
      "source": [
        "🔍 Explanation:\n",
        "logging.basicConfig(...): Sets up logging to write errors to error.log.\n",
        "\n",
        "logging.error(...): Logs the actual exception with a timestamp.\n",
        "\n",
        "divide(...): Function that safely handles the division and logs if there's an error.\n",
        "\n",
        "📄 Sample error.log output:"
      ],
      "metadata": {
        "id": "ENrR0IeGyN00"
      }
    },
    {
      "cell_type": "code",
      "source": [
        "2025-05-14 12:00:00,000 - ERROR - Division by zero error: division by zero\n"
      ],
      "metadata": {
        "id": "VA3RUXTjyQnD"
      },
      "execution_count": null,
      "outputs": []
    },
    {
      "cell_type": "markdown",
      "source": [
        "# **7) How do you log information at different levels (INFO, ERROR, WARNING) in Python using the logging module?**\n",
        "\n",
        "ans- To catch and handle a division by zero error in Python, you use a try...except block and specifically catch the ZeroDivisionError.\n",
        "\n",
        "✅ Example: Handling Division by Zero\n"
      ],
      "metadata": {
        "id": "oXPqZK79yi_1"
      }
    },
    {
      "cell_type": "code",
      "source": [
        "try:\n",
        "    numerator = 10\n",
        "    denominator = 0\n",
        "    result = numerator / denominator\n",
        "    print(\"Result:\", result)\n",
        "except ZeroDivisionError:\n",
        "    print(\"Error: Division by zero is not allowed.\")\n"
      ],
      "metadata": {
        "id": "d0QdZCgayvEc"
      },
      "execution_count": null,
      "outputs": []
    },
    {
      "cell_type": "markdown",
      "source": [
        "🔍 Explanation:\n",
        "\n",
        "numerator / denominator: This line raises a ZeroDivisionError if denominator is 0.\n",
        "\n",
        "The except ZeroDivisionError block catches that specific exception and handles it gracefully.\n",
        "\n",
        "✅ Optional: Handle Multiple Exceptions\n",
        "\n",
        "🔍 Explanation of Logging Levels:\n",
        "\n",
        "| Level      | Function             | Use Case Example                        |\n",
        "| ---------- | -------------------- | --------------------------------------- |\n",
        "| `DEBUG`    | `logging.debug()`    | Detailed info for diagnosing problems   |\n",
        "| `INFO`     | `logging.info()`     | General events (e.g., startup/shutdown) |\n",
        "| `WARNING`  | `logging.warning()`  | Something unexpected, but non-fatal     |\n",
        "| `ERROR`    | `logging.error()`    | A more serious issue (e.g., failed I/O) |\n",
        "| `CRITICAL` | `logging.critical()` | Fatal error causing program to stop     |\n",
        "\n",
        "\n",
        "Example Output in app.log:\n"
      ],
      "metadata": {
        "id": "29PFv-Npyxuj"
      }
    },
    {
      "cell_type": "code",
      "source": [
        "2025-05-14 14:00:00,123 - DEBUG - This is a DEBUG message\n",
        "2025-05-14 14:00:00,124 - INFO - This is an INFO message\n",
        "2025-05-14 14:00:00,125 - WARNING - This is a WARNING message\n",
        "2025-05-14 14:00:00,126 - ERROR - This is an ERROR message\n",
        "2025-05-14 14:00:00,127 - CRITICAL - This is a CRITICAL message\n"
      ],
      "metadata": {
        "id": "leHyotYv0RyV"
      },
      "execution_count": null,
      "outputs": []
    },
    {
      "cell_type": "markdown",
      "source": [
        "ips:\n",
        "Use level=logging.INFO if you want to skip debugging details.\n",
        "\n",
        "To log to console and file, use a StreamHandler along with FileHandler."
      ],
      "metadata": {
        "id": "smFCqgNo0UQ0"
      }
    },
    {
      "cell_type": "markdown",
      "source": [
        "# **8)Write a program to handle a file opening error using exception handling?**\n",
        "\n",
        "ans- ertainly! Below is a simple Python program that attempts to open a file and handles any file opening errors (like if the file doesn’t exist) using a try...except block.\n",
        "\n",
        "✅ Python Program: Handle File Opening Error\n"
      ],
      "metadata": {
        "id": "tiNaitUSz05D"
      }
    },
    {
      "cell_type": "code",
      "source": [
        "filename = \"example.txt\"\n",
        "\n",
        "try:\n",
        "    with open(filename, \"r\") as file:\n",
        "        content = file.read()\n",
        "        print(\"File content:\\n\", content)\n",
        "except FileNotFoundError:\n",
        "    print(f\"Error: The file '{filename}' was not found.\")\n",
        "except PermissionError:\n",
        "    print(f\"Error: You do not have permission to open '{filename}'.\")\n",
        "except IOError as e:\n",
        "    print(f\"An I/O error occurred: {e}\")\n"
      ],
      "metadata": {
        "id": "Q4bK9_aZ0uFL"
      },
      "execution_count": null,
      "outputs": []
    },
    {
      "cell_type": "markdown",
      "source": [
        "🔍 Explanation:\n",
        "\n",
        "FileNotFoundError: Catches when the file doesn’t exist.\n",
        "\n",
        "PermissionError: Catches lack of permission to read the file.\n",
        "\n",
        "IOError (or OSError): Catches other general input/output issues.\n",
        "\n"
      ],
      "metadata": {
        "id": "cYNVIqNR0wtN"
      }
    },
    {
      "cell_type": "markdown",
      "source": [
        "🧪 Output (if file is missing):\n",
        "\n"
      ],
      "metadata": {
        "id": "uMhifXzp0zx0"
      }
    },
    {
      "cell_type": "code",
      "source": [
        "Error: The file 'example.txt' was not found.\n"
      ],
      "metadata": {
        "id": "_uFrCE-x03EV"
      },
      "execution_count": null,
      "outputs": []
    },
    {
      "cell_type": "markdown",
      "source": [
        "# **9) How can you read a file line by line and store its content in a list in Python?**\n",
        "\n",
        "ans-In Python, you can read a file line by line and store its contents in a list using several approaches. Here's a common and clean way to do it:\n",
        "\n",
        "Using with and readlines():\n",
        "\n"
      ],
      "metadata": {
        "id": "XtuBapJo06PE"
      }
    },
    {
      "cell_type": "code",
      "source": [
        "# Open and read file line by line\n",
        "with open('filename.txt', 'r') as file:\n",
        "    lines = file.readlines()\n",
        "\n",
        "# Strip newline characters if needed\n",
        "lines = [line.strip() for line in lines]\n",
        "\n",
        "print(lines)\n"
      ],
      "metadata": {
        "id": "AjB9pj_2UaO3"
      },
      "execution_count": null,
      "outputs": []
    },
    {
      "cell_type": "markdown",
      "source": [
        "Alternative: Using a loop (more memory-efficient for large files)"
      ],
      "metadata": {
        "id": "A0VhHpnIUcZP"
      }
    },
    {
      "cell_type": "code",
      "source": [
        "lines = []\n",
        "with open('filename.txt', 'r') as file:\n",
        "    for line in file:\n",
        "        lines.append(line.strip())  # Or just append(line) if you want to keep the newline\n"
      ],
      "metadata": {
        "id": "ro4NOuUSUdE_"
      },
      "execution_count": null,
      "outputs": []
    },
    {
      "cell_type": "markdown",
      "source": [
        "Notes:\n",
        "\n",
        "with open(...) ensures the file is automatically closed after reading.\n",
        "\n",
        "strip() removes leading/trailing whitespace including newlines."
      ],
      "metadata": {
        "id": "CkPZjDObUgkX"
      }
    },
    {
      "cell_type": "markdown",
      "source": [
        "# **10) How can you append data to an existing file in Python?**\n",
        "\n",
        "ans- To append data to an existing file in Python, you open the file in append mode using 'a' (or 'a+' if you also want to read from the file). Here's how:\n",
        "\n",
        "Basic append example:"
      ],
      "metadata": {
        "id": "XOxf83-mU8YA"
      }
    },
    {
      "cell_type": "code",
      "source": [
        "with open('filename.txt', 'a') as file:\n",
        "    file.write('This is the new line of text.\\n')\n"
      ],
      "metadata": {
        "id": "6KpsRldVVFdW"
      },
      "execution_count": null,
      "outputs": []
    },
    {
      "cell_type": "markdown",
      "source": [
        "    file.write('This is the new line of text.\\n')\n",
        "Explanation:\n",
        "'a' mode opens the file for appending. If the file doesn't exist, it will be created.\n",
        "\n",
        "'a+' allows both appending and reading.\n",
        "\n",
        "Always add \\n at the end if you want the new text to start on a new line.\n",
        "\n",
        "Example with multiple lines:"
      ],
      "metadata": {
        "id": "QuXDrPFJVITH"
      }
    },
    {
      "cell_type": "code",
      "source": [
        "lines_to_append = [\"First additional line\\n\", \"Second additional line\\n\"]\n",
        "\n",
        "with open('filename.txt', 'a') as file:\n",
        "    file.writelines(lines_to_append)\n"
      ],
      "metadata": {
        "id": "NEPuhm0CVLqf"
      },
      "execution_count": null,
      "outputs": []
    },
    {
      "cell_type": "markdown",
      "source": [
        "# **11) Write a Python program that uses a try-except block to handle an error when attempting to access a dictionary key that doesn't exist**?\n",
        "\n",
        "ans-"
      ],
      "metadata": {
        "id": "xq2kdMGnVUYv"
      }
    },
    {
      "cell_type": "code",
      "source": [
        "# Define a dictionary\n",
        "my_dict = {\n",
        "    'name': 'Alice',\n",
        "    'age': 30\n",
        "}\n",
        "\n",
        "# Try to access a key that may not exist\n",
        "key_to_access = 'email'\n",
        "\n",
        "try:\n",
        "    value = my_dict[key_to_access]\n",
        "    print(f\"The value for '{key_to_access}' is: {value}\")\n",
        "except KeyError:\n",
        "    print(f\"Error: The key '{key_to_access}' does not exist in the dictionary.\")\n"
      ],
      "metadata": {
        "id": "sOkL-xqJVk9O"
      },
      "execution_count": null,
      "outputs": []
    },
    {
      "cell_type": "markdown",
      "source": [
        "Explanation:\n",
        "\n",
        "The try block attempts to access a key in the dictionary.\n",
        "\n",
        "If the key doesn't exist, a KeyError is raised.\n",
        "\n",
        "The except KeyError block catches the error and handles it gracefully."
      ],
      "metadata": {
        "id": "BNrc_UJMVnbn"
      }
    },
    {
      "cell_type": "markdown",
      "source": [
        "# **12) Write a program that demonstrates using multiple except blocks to handle different types of exceptions?**\n",
        "\n",
        "ans- Here's a Python program that demonstrates using multiple except blocks to handle different types of exceptions:"
      ],
      "metadata": {
        "id": "p82_iApWVpI-"
      }
    },
    {
      "cell_type": "code",
      "source": [
        "def divide_numbers():\n",
        "    try:\n",
        "        # User input\n",
        "        num1 = int(input(\"Enter the numerator: \"))\n",
        "        num2 = int(input(\"Enter the denominator: \"))\n",
        "\n",
        "        result = num1 / num2\n",
        "        print(f\"Result: {result}\")\n",
        "\n",
        "    except ValueError:\n",
        "        print(\"Error: Please enter valid integers.\")\n",
        "\n",
        "    except ZeroDivisionError:\n",
        "        print(\"Error: Cannot divide by zero.\")\n",
        "\n",
        "    except Exception as e:\n",
        "        print(f\"An unexpected error occurred: {e}\")\n",
        "\n",
        "# Run the program\n",
        "divide_numbers()\n"
      ],
      "metadata": {
        "id": "u4qCj64bV7Tv"
      },
      "execution_count": null,
      "outputs": []
    },
    {
      "cell_type": "markdown",
      "source": [
        "What it does:\n",
        "\n",
        "ValueError: Caught if the user enters something that can't be converted to an integer.\n",
        "\n",
        "ZeroDivisionError: Caught if the user tries to divide by zero.\n",
        "\n",
        "Exception: A catch-all for any other unforeseen errors."
      ],
      "metadata": {
        "id": "hIFYu8y-V_P2"
      }
    },
    {
      "cell_type": "markdown",
      "source": [
        "# **13) How would you check if a file exists before attempting to read it in Python?**\n",
        "\n",
        "ans- To check if a file exists before attempting to read it in Python, you can use the os.path.exists() function or the more modern pathlib.Path.exists() method.\n",
        "\n",
        "✅ Using os module:\n"
      ],
      "metadata": {
        "id": "qjgXCh-rWFCP"
      }
    },
    {
      "cell_type": "code",
      "source": [
        "import os\n",
        "\n",
        "filename = 'example.txt'\n",
        "\n",
        "if os.path.exists(filename):\n",
        "    with open(filename, 'r') as file:\n",
        "        content = file.read()\n",
        "        print(content)\n",
        "else:\n",
        "    print(f\"File '{filename}' does not exist.\")\n"
      ],
      "metadata": {
        "id": "ebiTVtqcWRqg"
      },
      "execution_count": null,
      "outputs": []
    },
    {
      "cell_type": "markdown",
      "source": [
        "✅ Using pathlib (recommended in modern Python):\n",
        "\n"
      ],
      "metadata": {
        "id": "RR_IXvR3WT-H"
      }
    },
    {
      "cell_type": "code",
      "source": [
        "from pathlib import Path\n",
        "\n",
        "file_path = Path('example.txt')\n",
        "\n",
        "if file_path.exists():\n",
        "    with file_path.open('r') as file:\n",
        "        content = file.read()\n",
        "        print(content)\n",
        "else:\n",
        "    print(f\"File '{file_path}' does not exist.\")\n"
      ],
      "metadata": {
        "id": "D8kO5ZPYWYI-"
      },
      "execution_count": null,
      "outputs": []
    },
    {
      "cell_type": "markdown",
      "source": [
        "Both methods work well. pathlib is often preferred for cleaner, object-oriented path handling."
      ],
      "metadata": {
        "id": "5PII8tPWWa4f"
      }
    },
    {
      "cell_type": "markdown",
      "source": [
        "# **14) Write a program that uses the logging module to log both informational and error messages?**\n",
        "\n",
        "ans- Here's a simple Python program that uses the logging module to log informational and error messages:\n",
        "\n"
      ],
      "metadata": {
        "id": "EONAmmiQWbqI"
      }
    },
    {
      "cell_type": "code",
      "source": [
        "import logging\n",
        "\n",
        "# Configure logging\n",
        "logging.basicConfig(\n",
        "    filename='app.log',        # Log output file\n",
        "    level=logging.DEBUG,       # Set the logging level\n",
        "    format='%(asctime)s - %(levelname)s - %(message)s'  # Log format\n",
        ")\n",
        "\n",
        "def divide(a, b):\n",
        "    logging.info(f\"Attempting to divide {a} by {b}\")\n",
        "    try:\n",
        "        result = a / b\n",
        "        logging.info(f\"Division successful: {result}\")\n",
        "        return result\n",
        "    except ZeroDivisionError as e:\n",
        "        logging.error(\"Error: Cannot divide by zero.\")\n",
        "        return None\n",
        "    except Exception as e:\n",
        "        logging.error(f\"Unexpected error: {e}\")\n",
        "        return None\n",
        "\n",
        "# Example usage\n",
        "divide(10, 2)\n",
        "divide(5, 0)\n",
        "divide(\"ten\", 2)  # Triggers an error for demonstration\n"
      ],
      "metadata": {
        "colab": {
          "base_uri": "https://localhost:8080/"
        },
        "id": "QbcjJL_CWp4o",
        "outputId": "82d96a1e-8594-45f0-e222-6e98b3dba481"
      },
      "execution_count": 1,
      "outputs": [
        {
          "output_type": "stream",
          "name": "stderr",
          "text": [
            "ERROR:root:Error: Cannot divide by zero.\n",
            "ERROR:root:Unexpected error: unsupported operand type(s) for /: 'str' and 'int'\n"
          ]
        }
      ]
    },
    {
      "cell_type": "markdown",
      "source": [
        "What it does:\n",
        "\n",
        "* Logs info messages before and after successful operations.\n",
        "\n",
        "* Logs error messages if an exception occurs.\n",
        "\n",
        "* Output is written to a file named app.log."
      ],
      "metadata": {
        "id": "_J90SuiKW2j_"
      }
    },
    {
      "cell_type": "markdown",
      "source": [
        "# **15)Write a Python program that prints the content of a file and handles the case when the file is empty?**\n",
        "\n",
        "ans- Here's a Python program that:\n",
        "\n",
        "* Prints the content of a file.\n",
        "\n",
        "* Gracefully handles the case when the file is empty.\n",
        "\n",
        "* Also handles the case when the file does not exist.\n",
        "\n"
      ],
      "metadata": {
        "id": "oLk0iL9zW6_v"
      }
    },
    {
      "cell_type": "code",
      "source": [
        "def print_file_content(filename):\n",
        "    try:\n",
        "        with open(filename, 'r') as file:\n",
        "            content = file.read()\n",
        "            if content.strip() == \"\":\n",
        "                print(f\"The file '{filename}' is empty.\")\n",
        "            else:\n",
        "                print(f\"Contents of '{filename}':\\n\")\n",
        "                print(content)\n",
        "    except FileNotFoundError:\n",
        "        print(f\"Error: The file '{filename}' does not exist.\")\n",
        "    except Exception as e:\n",
        "        print(f\"An unexpected error occurred: {e}\")\n",
        "\n",
        "# Example usage\n",
        "file_name = input(\"Enter the file name: \")\n",
        "print_file_content(file_name)\n"
      ],
      "metadata": {
        "id": "FvS5b_j_Xvie"
      },
      "execution_count": null,
      "outputs": []
    },
    {
      "cell_type": "markdown",
      "source": [
        "Features:\n",
        "\n",
        "* Uses with to safely open the file.\n",
        "\n",
        "* Checks if the file content is empty (ignores whitespace using strip()).\n",
        "\n",
        "* Catches and reports FileNotFoundError.\n",
        "\n",
        "* Catches other unexpected exceptions."
      ],
      "metadata": {
        "id": "Dw9dTlLCXx03"
      }
    },
    {
      "cell_type": "markdown",
      "source": [
        "# **16)Demonstrate how to use memory profiling to check the memory usage of a small program?**\n",
        "\n",
        "ans- To profile memory usage in a small Python program, you can use the memory_profiler module.\n",
        "\n",
        "Here’s a step-by-step demonstration:\n",
        "\n",
        "✅ Step 1: Install memory_profiler\n",
        "You need to install it (only once):"
      ],
      "metadata": {
        "id": "k22GhLPqX2Ru"
      }
    },
    {
      "cell_type": "code",
      "source": [
        "pip install memory-profiler\n"
      ],
      "metadata": {
        "id": "hzECYdClYLXG"
      },
      "execution_count": null,
      "outputs": []
    },
    {
      "cell_type": "markdown",
      "source": [
        "✅ Step 2: Write a Python script with @profile decorator\n",
        "Save the following code as memory_test.py:"
      ],
      "metadata": {
        "id": "zHdqR1-EYNwH"
      }
    },
    {
      "cell_type": "code",
      "source": [
        "from memory_profiler import profile\n",
        "\n",
        "@profile\n",
        "def create_large_list():\n",
        "    # Simulate memory usage\n",
        "    large_list = [i for i in range(1000000)]\n",
        "    return sum(large_list)\n",
        "\n",
        "if __name__ == \"__main__\":\n",
        "    result = create_large_list()\n",
        "    print(\"Sum:\", result)\n"
      ],
      "metadata": {
        "id": "rXm_71xIYPrH"
      },
      "execution_count": null,
      "outputs": []
    },
    {
      "cell_type": "markdown",
      "source": [
        "✅ Step 3: Run the profiler\n",
        "Execute the script using the -m memory_profiler option:"
      ],
      "metadata": {
        "id": "cfYuuW_9YTpe"
      }
    },
    {
      "cell_type": "code",
      "source": [
        "python -m memory_profiler memory_test.py\n"
      ],
      "metadata": {
        "id": "uyy8T3-uYVQf"
      },
      "execution_count": null,
      "outputs": []
    },
    {
      "cell_type": "markdown",
      "source": [
        "Example Output:"
      ],
      "metadata": {
        "id": "vndvqgJrYXdf"
      }
    },
    {
      "cell_type": "code",
      "source": [
        "Line #    Mem usage    Increment  Occurrences   Line Contents\n",
        "=============================================================\n",
        "     4     11.5 MiB     11.5 MiB           1   @profile\n",
        "     5                                         def create_large_list():\n",
        "     6     56.3 MiB     44.8 MiB           1       large_list = [i for i in range(1000000)]\n",
        "     7     56.4 MiB      0.1 MiB           1       return sum(large_list)\n"
      ],
      "metadata": {
        "id": "X6i4_hwvYZE_"
      },
      "execution_count": null,
      "outputs": []
    },
    {
      "cell_type": "markdown",
      "source": [
        " Tips:\n",
        "\n",
        "* Use @profile only on functions you want to analyze.\n",
        "\n",
        "* You can also use %mprun in a Jupyter notebook with memory_profiler."
      ],
      "metadata": {
        "id": "OAaYcEVEYdsO"
      }
    },
    {
      "cell_type": "markdown",
      "source": [
        "# **17) Write a Python program to create and write a list of numbers to a file, one number per line?**\n",
        "\n",
        "ans- ere's a simple Python program that creates a list of numbers and writes them to a file, one number per line:"
      ],
      "metadata": {
        "id": "JHeuvyzWYhX3"
      }
    },
    {
      "cell_type": "code",
      "source": [
        "# Create a list of numbers\n",
        "numbers = [10, 20, 30, 40, 50]\n",
        "\n",
        "# Specify the file name\n",
        "filename = 'numbers.txt'\n",
        "\n",
        "# Write numbers to the file, one per line\n",
        "with open(filename, 'w') as file:\n",
        "    for number in numbers:\n",
        "        file.write(f\"{number}\\n\")\n",
        "\n",
        "print(f\"Successfully written numbers to '{filename}'\")\n"
      ],
      "metadata": {
        "colab": {
          "base_uri": "https://localhost:8080/"
        },
        "id": "jbCWU2ZTY1Xu",
        "outputId": "77960303-abdd-415c-d84f-f07ead68816e"
      },
      "execution_count": 2,
      "outputs": [
        {
          "output_type": "stream",
          "name": "stdout",
          "text": [
            "Successfully written numbers to 'numbers.txt'\n"
          ]
        }
      ]
    },
    {
      "cell_type": "markdown",
      "source": [
        "Output:\n",
        "This will create a file called numbers.txt with the following content:"
      ],
      "metadata": {
        "id": "a3JIG0P5Y6JY"
      }
    },
    {
      "cell_type": "code",
      "source": [
        "10\n",
        "20\n",
        "30\n",
        "40\n",
        "50\n"
      ],
      "metadata": {
        "id": "7i2rQucQY6yg"
      },
      "execution_count": null,
      "outputs": []
    },
    {
      "cell_type": "markdown",
      "source": [
        "# **18) How would you implement a basic logging setup that logs to a file with rotation after 1MB?**\n",
        "\n",
        "ans- To implement a basic logging setup in Python that logs to a file with rotation after it reaches 1MB, you can use the logging module along with logging.handlers.RotatingFileHandler.\n",
        "\n",
        "Here’s a minimal example:"
      ],
      "metadata": {
        "id": "xjn1_izTY88_"
      }
    },
    {
      "cell_type": "code",
      "source": [
        "import logging\n",
        "from logging.handlers import RotatingFileHandler\n",
        "\n",
        "# Create logger\n",
        "logger = logging.getLogger('my_logger')\n",
        "logger.setLevel(logging.DEBUG)  # Set minimum level to capture\n",
        "\n",
        "# Create a rotating file handler\n",
        "handler = RotatingFileHandler(\n",
        "    'app.log', maxBytes=1_000_000, backupCount=3  # 1MB max, keep 3 backups\n",
        ")\n",
        "handler.setLevel(logging.DEBUG)\n",
        "\n",
        "# Create a formatter and set it for the handler\n",
        "formatter = logging.Formatter('%(asctime)s - %(levelname)s - %(message)s')\n",
        "handler.setFormatter(formatter)\n",
        "\n",
        "# Add handler to logger\n",
        "logger.addHandler(handler)\n",
        "\n",
        "# Example usage\n",
        "logger.info(\"This is an informational message.\")\n",
        "logger.error(\"This is an error message.\")\n"
      ],
      "metadata": {
        "id": "W1l0VB9FZLU_"
      },
      "execution_count": null,
      "outputs": []
    },
    {
      "cell_type": "markdown",
      "source": [
        "How it works:\n",
        "\n",
        "* RotatingFileHandler writes logs to app.log.\n",
        "\n",
        "* When the file size reaches 1,000,000 bytes (1MB), it rotates the log file:\n",
        "\n",
        "* app.log is renamed to app.log.1\n",
        "\n",
        "* Previous backups are shifted (app.log.1 to app.log.2, etc.)\n",
        "\n",
        "* Oldest backup (beyond backupCount) is deleted.\n",
        "\n",
        "* backupCount=3 keeps up to 3 backup log files."
      ],
      "metadata": {
        "id": "QAzPhOZbZNs_"
      }
    },
    {
      "cell_type": "markdown",
      "source": [
        "# **19) Write a program that handles both IndexError and KeyError using a try-except block?**\n",
        "\n",
        "ans- Here’s a Python program that handles both IndexError and KeyError using a try-except block:"
      ],
      "metadata": {
        "id": "JFcOzJBKZWDP"
      }
    },
    {
      "cell_type": "code",
      "source": [
        "my_list = [10, 20, 30]\n",
        "my_dict = {'a': 1, 'b': 2}\n",
        "\n",
        "try:\n",
        "    # Attempt to access an invalid index\n",
        "    print(my_list[5])\n",
        "\n",
        "    # Attempt to access a non-existent dictionary key\n",
        "    print(my_dict['c'])\n",
        "\n",
        "except IndexError:\n",
        "    print(\"Caught an IndexError: list index out of range.\")\n",
        "\n",
        "except KeyError:\n",
        "    print(\"Caught a KeyError: dictionary key not found.\")\n"
      ],
      "metadata": {
        "id": "Uf45-eKuZmD_"
      },
      "execution_count": null,
      "outputs": []
    },
    {
      "cell_type": "markdown",
      "source": [
        "How it works:\n",
        "\n",
        "* If accessing my_list[5] fails (because the index is out of range), it catches IndexError.\n",
        "\n",
        "* If accessing my_dict['c'] fails (because the key 'c' doesn't exist), it catches KeyError."
      ],
      "metadata": {
        "id": "G_V8a25sZo7_"
      }
    },
    {
      "cell_type": "markdown",
      "source": [
        "# **20)How would you open a file and read its contents using a context manager in Python?**\n",
        "\n",
        "ans-"
      ],
      "metadata": {
        "id": "thyWp0jlZw4H"
      }
    },
    {
      "cell_type": "code",
      "source": [
        "filename = 'example.txt'\n",
        "\n",
        "with open(filename, 'r') as file:\n",
        "    content = file.read()\n",
        "\n",
        "print(content)\n"
      ],
      "metadata": {
        "id": "R-HC-VxLZ5Y3"
      },
      "execution_count": null,
      "outputs": []
    },
    {
      "cell_type": "markdown",
      "source": [
        "Explanation:\n",
        "\n",
        "* The with statement ensures the file is properly closed after reading, even if an error occurs.\n",
        "\n",
        "* 'r' mode opens the file for reading.\n",
        "\n",
        "* file.read() reads the entire content of the file into the content variable."
      ],
      "metadata": {
        "id": "T0xraDXzZ7vm"
      }
    },
    {
      "cell_type": "markdown",
      "source": [
        "# **21) Write a Python program that reads a file and prints the number of occurrences of a specific word?**\n",
        "\n",
        "ans- Here’s a Python program that reads a file and prints the number of occurrences of a specific word (case-insensitive):"
      ],
      "metadata": {
        "id": "ZU1c75DWaHDX"
      }
    },
    {
      "cell_type": "code",
      "source": [
        "def count_word_occurrences(filename, target_word):\n",
        "    try:\n",
        "        with open(filename, 'r') as file:\n",
        "            text = file.read().lower()  # Convert to lowercase for case-insensitive matching\n",
        "        word_list = text.split()\n",
        "        count = word_list.count(target_word.lower())\n",
        "        print(f\"The word '{target_word}' occurs {count} time(s) in '{filename}'.\")\n",
        "    except FileNotFoundError:\n",
        "        print(f\"Error: The file '{filename}' does not exist.\")\n",
        "    except Exception as e:\n",
        "        print(f\"An error occurred: {e}\")\n",
        "\n",
        "# Example usage\n",
        "filename = input(\"Enter the filename: \")\n",
        "word = input(\"Enter the word to count: \")\n",
        "count_word_occurrences(filename, word)\n"
      ],
      "metadata": {
        "id": "6xL0fzVraTr_"
      },
      "execution_count": null,
      "outputs": []
    },
    {
      "cell_type": "markdown",
      "source": [
        "How it works:\n",
        "\n",
        "* Reads the entire file content.\n",
        "\n",
        "* Converts text and target word to lowercase for case-insensitive counting.\n",
        "\n",
        "* Splits the text into words and counts occurrences.\n",
        "\n",
        "* Handles file not found and other exceptions gracefully."
      ],
      "metadata": {
        "id": "6ee0s47xab6Y"
      }
    },
    {
      "cell_type": "markdown",
      "source": [
        "# **22) How can you check if a file is empty before attempting to read its contents?**\n",
        "\n",
        "ans- we can check if a file is empty before reading it by checking its size. Here are two common ways:\n",
        "\n",
        "1. Using os.path.getsize():\n",
        "\n"
      ],
      "metadata": {
        "id": "5Ll5ZAlQajZu"
      }
    },
    {
      "cell_type": "code",
      "source": [
        "import os\n",
        "\n",
        "filename = 'example.txt'\n",
        "\n",
        "if os.path.exists(filename) and os.path.getsize(filename) > 0:\n",
        "    with open(filename, 'r') as file:\n",
        "        content = file.read()\n",
        "        print(content)\n",
        "else:\n",
        "    print(f\"The file '{filename}' is empty or does not exist.\")\n"
      ],
      "metadata": {
        "id": "-LyrZ8UqawHX"
      },
      "execution_count": null,
      "outputs": []
    },
    {
      "cell_type": "markdown",
      "source": [
        "2. Using pathlib.Path.stat():"
      ],
      "metadata": {
        "id": "EwwrIs3qa1r4"
      }
    },
    {
      "cell_type": "code",
      "source": [
        "from pathlib import Path\n",
        "\n",
        "file_path = Path('example.txt')\n",
        "\n",
        "if file_path.exists() and file_path.stat().st_size > 0:\n",
        "    with file_path.open('r') as file:\n",
        "        content = file.read()\n",
        "        print(content)\n",
        "else:\n",
        "    print(f\"The file '{file_path}' is empty or does not exist.\")\n"
      ],
      "metadata": {
        "id": "V15dK_6Ma2VX"
      },
      "execution_count": null,
      "outputs": []
    },
    {
      "cell_type": "markdown",
      "source": [
        "Both methods check that the file exists and its size is greater than zero before reading."
      ],
      "metadata": {
        "id": "LCllQ_R5a6mo"
      }
    },
    {
      "cell_type": "markdown",
      "source": [
        "# **23) Write a Python program that writes to a log file when an error occurs during file handling ?**\n",
        "\n",
        "ans- a Python program that attempts to read a file and logs any errors during file handling to a log file using the logging module:\n",
        "\n"
      ],
      "metadata": {
        "id": "1qouDld_a7jg"
      }
    },
    {
      "cell_type": "code",
      "source": [
        "import logging\n",
        "\n",
        "# Configure logging to write errors to 'error.log'\n",
        "logging.basicConfig(\n",
        "    filename='error.log',\n",
        "    level=logging.ERROR,\n",
        "    format='%(asctime)s - %(levelname)s - %(message)s'\n",
        ")\n",
        "\n",
        "def read_file(filename):\n",
        "    try:\n",
        "        with open(filename, 'r') as file:\n",
        "            content = file.read()\n",
        "            print(content)\n",
        "    except Exception as e:\n",
        "        logging.error(f\"Failed to read file '{filename}': {e}\")\n",
        "        print(f\"An error occurred while reading the file. Check 'error.log' for details.\")\n",
        "\n",
        "# Example usage\n",
        "filename = input(\"Enter the filename to read: \")\n",
        "read_file(filename)\n"
      ],
      "metadata": {
        "id": "QjrM1tPwbKX4"
      },
      "execution_count": null,
      "outputs": []
    },
    {
      "cell_type": "markdown",
      "source": [
        "What this does:\n",
        "\n",
        "* Tries to open and read the specified file.\n",
        "\n",
        "* If any error occurs (e.g., file not found, permission error), it logs the error message with a timestamp into error.log.\n",
        "\n",
        "*Also informs the user to check the log file."
      ],
      "metadata": {
        "id": "gwODfXcibNBX"
      }
    }
  ]
}